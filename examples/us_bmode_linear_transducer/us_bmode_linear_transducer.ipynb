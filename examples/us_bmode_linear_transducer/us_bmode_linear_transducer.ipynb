{
 "cells": [
  {
   "cell_type": "code",
   "execution_count": null,
   "metadata": {},
   "outputs": [],
   "source": [
    "import os\n",
    "import importlib.util\n",
    "\n",
    "def is_running_in_colab()->bool:\n",
    "    return 'COLAB_RELEASE_TAG' in os.environ\n",
    "\n",
    "def is_library_installed(library_name):\n",
    "    spec = importlib.util.find_spec(library_name)\n",
    "    return spec is not None\n"
   ]
  },
  {
   "cell_type": "code",
   "execution_count": null,
   "metadata": {},
   "outputs": [],
   "source": [
    "%%capture\n",
    "\n",
    "if not is_library_installed('kwave'):\n",
    "    %pip install k-wave-python\n",
    "\n",
    "if is_running_in_colab():\n",
    "    !wget https://raw.githubusercontent.com/waltsims/k-wave-python/master/examples/us_bmode_linear_transducer/example_utils.py"
   ]
  },
  {
   "cell_type": "code",
   "execution_count": null,
   "metadata": {},
   "outputs": [],
   "source": [
    "import logging\n",
    "import numpy as np\n",
    "import scipy.io\n",
    "import matplotlib.pyplot as plt\n",
    "\n",
    "from example_utils import download_if_does_not_exist\n",
    "from kwave.data import Vector\n",
    "from kwave.kgrid import kWaveGrid\n",
    "from kwave.kmedium import kWaveMedium\n",
    "from kwave.kspaceFirstOrder3D import kspaceFirstOrder3D\n",
    "from kwave.ktransducer import NotATransducer, kWaveTransducerSimple\n",
    "from kwave.options.simulation_execution_options import SimulationExecutionOptions\n",
    "from kwave.options.simulation_options import SimulationOptions\n",
    "from kwave.utils.dotdictionary import dotdict\n",
    "from kwave.utils.signals import tone_burst, get_win\n",
    "from kwave.utils.filters import gaussian_filter\n",
    "from kwave.utils.conversion import db2neper\n",
    "from kwave.reconstruction.tools import log_compression\n",
    "from kwave.reconstruction.beamform import envelope_detection\n",
    "\n",
    "\n",
    "SENSOR_DATA_GDRIVE_ID = '1lGFTifpOrzBYT4Bl_ccLu_Kx0IDxM0Lv'\n",
    "PHANTOM_DATA_GDRIVE_ID = '1ZfSdJPe8nufZHz0U9IuwHR4chaOGAWO4'\n",
    "PHANTOM_DATA_PATH = 'phantom_data.mat'\n",
    "\n",
    "# simulation settings\n",
    "DATA_CAST = 'single'\n",
    "RUN_SIMULATION = False"
   ]
  },
  {
   "cell_type": "code",
   "execution_count": null,
   "metadata": {},
   "outputs": [],
   "source": [
    "pml_size_points = Vector([20, 10, 10])  # [grid points]\n",
    "grid_size_points = Vector([256, 128, 128]) - 2 * pml_size_points  # [grid points]\n",
    "grid_size_meters = 40e-3  # [m]\n",
    "grid_spacing_meters = grid_size_meters / Vector([grid_size_points.x, grid_size_points.x, grid_size_points.x])\n",
    "\n",
    "c0 = 1540\n",
    "rho0 = 1000\n",
    "source_strength = 1e6  # [Pa]\n",
    "tone_burst_freq = 1.5e6  # [Hz]\n",
    "tone_burst_cycles = 4\n",
    "number_scan_lines = 96"
   ]
  },
  {
   "cell_type": "code",
   "execution_count": null,
   "metadata": {},
   "outputs": [],
   "source": [
    "kgrid = kWaveGrid(grid_size_points, grid_spacing_meters)\n",
    "t_end = (grid_size_points.x * grid_spacing_meters.x) * 2.2 / c0  # [s]\n",
    "kgrid.makeTime(c0, t_end=t_end)\n"
   ]
  },
  {
   "cell_type": "code",
   "execution_count": null,
   "metadata": {},
   "outputs": [],
   "source": [
    "input_signal = tone_burst(1 / kgrid.dt, tone_burst_freq, tone_burst_cycles)\n",
    "input_signal = (source_strength / (c0 * rho0)) * input_signal"
   ]
  },
  {
   "cell_type": "code",
   "execution_count": null,
   "metadata": {},
   "outputs": [],
   "source": [
    "medium = kWaveMedium(\n",
    "    sound_speed=None,  # will be set later\n",
    "    alpha_coeff=0.75,\n",
    "    alpha_power=1.5,\n",
    "    BonA=6\n",
    ")"
   ]
  },
  {
   "cell_type": "code",
   "execution_count": null,
   "metadata": {},
   "outputs": [],
   "source": [
    "transducer = dotdict()\n",
    "transducer.number_elements = 32  # total number of transducer elements\n",
    "transducer.element_width = 2  # width of each element [grid points/voxels]\n",
    "transducer.element_length = 24  # length of each element [grid points/voxels]\n",
    "transducer.element_spacing = 0  # spacing (kerf  width) between the elements [grid points/voxels]\n",
    "transducer.radius = float('inf')  # radius of curvature of the transducer [m]\n",
    "\n",
    "# calculate the width of the transducer in grid points\n",
    "transducer_width = transducer.number_elements * transducer.element_width + (\n",
    "        transducer.number_elements - 1) * transducer.element_spacing\n",
    "\n",
    "# use this to position the transducer in the middle of the computational grid\n",
    "transducer.position = np.round([\n",
    "    1,\n",
    "    grid_size_points.y / 2 - transducer_width / 2,\n",
    "    grid_size_points.z / 2 - transducer.element_length / 2\n",
    "])\n",
    "transducer = kWaveTransducerSimple(kgrid, **transducer)"
   ]
  },
  {
   "cell_type": "code",
   "execution_count": null,
   "metadata": {},
   "outputs": [],
   "source": [
    "not_transducer = dotdict()\n",
    "not_transducer.sound_speed = c0  # sound speed [m/s]\n",
    "not_transducer.focus_distance = 20e-3  # focus distance [m]\n",
    "not_transducer.elevation_focus_distance = 19e-3  # focus distance in the elevation plane [m]\n",
    "not_transducer.steering_angle = 0  # steering angle [degrees]\n",
    "not_transducer.transmit_apodization = 'Hanning'\n",
    "not_transducer.receive_apodization = 'Rectangular'\n",
    "not_transducer.active_elements = np.ones((transducer.number_elements, 1))\n",
    "not_transducer.input_signal = input_signal\n",
    "\n",
    "not_transducer = NotATransducer(transducer, kgrid, **not_transducer)"
   ]
  },
  {
   "cell_type": "code",
   "execution_count": null,
   "metadata": {},
   "outputs": [],
   "source": [
    "logging.log(logging.INFO, \"Fetching phantom data...\")\n",
    "download_if_does_not_exist(PHANTOM_DATA_GDRIVE_ID, PHANTOM_DATA_PATH)\n",
    "\n",
    "phantom = scipy.io.loadmat(PHANTOM_DATA_PATH)\n",
    "sound_speed_map = phantom['sound_speed_map']\n",
    "density_map = phantom['density_map']\n",
    "\n",
    "logging.log(logging.INFO, f\"RUN_SIMULATION set to {RUN_SIMULATION}\")"
   ]
  },
  {
   "cell_type": "code",
   "execution_count": null,
   "metadata": {},
   "outputs": [],
   "source": [
    "# preallocate the storage set medium position\n",
    "scan_lines = np.zeros((number_scan_lines, kgrid.Nt))\n",
    "medium_position = 0\n",
    "\n",
    "for scan_line_index in range(0, number_scan_lines):\n",
    "\n",
    "    # load the current section of the medium\n",
    "    medium.sound_speed = \\\n",
    "        sound_speed_map[:, medium_position:medium_position + grid_size_points.y, :]\n",
    "    medium.density = density_map[:, medium_position:medium_position + grid_size_points.y, :]\n",
    "\n",
    "    # set the input settings\n",
    "    input_filename = f'example_input_{scan_line_index}.h5'\n",
    "    # set the input settings\n",
    "    simulation_options = SimulationOptions(\n",
    "        pml_inside=False,\n",
    "        pml_size=pml_size_points,\n",
    "        data_cast=DATA_CAST,\n",
    "        data_recast=True,\n",
    "        save_to_disk=True,\n",
    "        input_filename=input_filename,\n",
    "        save_to_disk_exit=False\n",
    "    )\n",
    "    # run the simulation\n",
    "    if RUN_SIMULATION:\n",
    "        sensor_data = kspaceFirstOrder3D(\n",
    "            medium=medium,\n",
    "            kgrid=kgrid,\n",
    "            source=not_transducer,\n",
    "            sensor=not_transducer,\n",
    "            simulation_options=simulation_options,\n",
    "            execution_options=SimulationExecutionOptions(is_gpu_simulation=True)\n",
    "        )\n",
    "\n",
    "        scan_lines[scan_line_index, :] = not_transducer.scan_line(not_transducer.combine_sensor_data(sensor_data['p'].T))\n",
    "\n",
    "    # update medium position\n",
    "    medium_position = medium_position + transducer.element_width\n",
    "\n",
    "if RUN_SIMULATION:\n",
    "    simulation_data = scan_lines\n",
    "    scipy.io.savemat('sensor_data.mat', {'sensor_data_all_lines': simulation_data})\n",
    "\n",
    "else:\n",
    "    logging.log(logging.INFO, \"Downloading data from remote server...\")\n",
    "    sensor_data_path = 'sensor_data.mat'\n",
    "    download_if_does_not_exist(SENSOR_DATA_GDRIVE_ID, sensor_data_path)\n",
    "\n",
    "    simulation_data = scipy.io.loadmat(sensor_data_path)['sensor_data_all_lines']\n",
    "\n",
    "\n",
    "scan_lines = simulation_data"
   ]
  },
  {
   "cell_type": "markdown",
   "metadata": {},
   "source": [
    "## PROCESS THE RESULTS\n",
    "### Remove Input Signal\n"
   ]
  },
  {
   "cell_type": "code",
   "execution_count": null,
   "metadata": {},
   "outputs": [],
   "source": [
    "# Trim the delay offset from the scan line data\n",
    "tukey_win, _ = get_win(kgrid.Nt * 2, 'Tukey', False, 0.05)\n",
    "transmit_len = len(input_signal.squeeze())\n",
    "scan_line_win = np.concatenate((np.zeros([1, transmit_len * 2]), tukey_win.T[:, :kgrid.Nt - transmit_len * 2]), axis=1)\n",
    "\n",
    "scan_lines = scan_lines * scan_line_win\n",
    "\n",
    "# store intermediate results\n",
    "scan_lines_no_input = scan_lines[len(scan_lines) // 2, :]\n",
    "\n",
    "Nt = kgrid.Nt"
   ]
  },
  {
   "cell_type": "markdown",
   "metadata": {},
   "source": [
    "### Time Gain Compensation"
   ]
  },
  {
   "cell_type": "code",
   "execution_count": null,
   "metadata": {},
   "outputs": [],
   "source": [
    "# Create radius variable\n",
    "t0 = len(input_signal) * kgrid.dt / 2\n",
    "r = c0 * (np.arange(1, Nt + 1) * kgrid.dt  - t0) / 2\n",
    "\n",
    "# Define absorption value and convert to correct units\n",
    "tgc_alpha_db_cm = medium.alpha_coeff * (tone_burst_freq * 1e-6)**medium.alpha_power\n",
    "tgc_alpha_np_m = db2neper(tgc_alpha_db_cm) * 100\n",
    "\n",
    "# Create time gain compensation function\n",
    "tgc = np.exp(tgc_alpha_np_m * 2 * r)\n",
    "\n",
    "# Apply the time gain compensation to each of the scan lines\n",
    "scan_lines *= tgc\n",
    "\n",
    "# store intermediate results\n",
    "scan_lines_tgc = scan_lines[len(scan_lines) // 2, :]"
   ]
  },
  {
   "cell_type": "markdown",
   "metadata": {},
   "source": [
    "\n",
    "### Frequency Filtering\n"
   ]
  },
  {
   "cell_type": "code",
   "execution_count": null,
   "metadata": {},
   "outputs": [],
   "source": [
    "scan_lines_fund = gaussian_filter(scan_lines, 1/kgrid.dt, tone_burst_freq, 100)\n",
    "scan_lines_harm = gaussian_filter(scan_lines, 1/kgrid.dt, 2 * tone_burst_freq, 30)  # plotting was not impl.\n",
    "\n",
    "# store intermediate results\n",
    "scan_lines_fund_ex = scan_lines_fund[len(scan_lines_fund) // 2, :]\n",
    "# scan_lines_harm_ex = scan_lines_harm[len(scan_lines_harm) // 2, :]\n"
   ]
  },
  {
   "cell_type": "markdown",
   "metadata": {},
   "source": [
    "\n",
    "### Envelope Detection\n"
   ]
  },
  {
   "cell_type": "code",
   "execution_count": null,
   "metadata": {},
   "outputs": [],
   "source": [
    "scan_lines_fund = envelope_detection(scan_lines_fund)\n",
    "scan_lines_harm = envelope_detection(scan_lines_harm)\n",
    "\n",
    "# store intermediate results\n",
    "scan_lines_fund_env_ex = scan_lines_fund[len(scan_lines_fund) // 2, :]\n",
    "# scan_lines_harm_env_ex = scan_lines_harm[len(scan_lines_harm) // 2, :]\n",
    "\n"
   ]
  },
  {
   "cell_type": "markdown",
   "metadata": {},
   "source": [
    "### Log Compression\n",
    "\n"
   ]
  },
  {
   "cell_type": "code",
   "execution_count": null,
   "metadata": {},
   "outputs": [],
   "source": [
    "compression_ratio = 3\n",
    "scan_lines_fund = log_compression(scan_lines_fund, compression_ratio, True)\n",
    "scan_lines_harm = log_compression(scan_lines_harm, compression_ratio, True)\n",
    "\n",
    "# store intermediate results\n",
    "scan_lines_fund_log_ex = scan_lines_fund[len(scan_lines_fund) // 2, :]\n",
    "# scan_lines_harm_log_ex = scan_lines_harm[len(scan_lines_harm) // 2, :]"
   ]
  },
  {
   "cell_type": "markdown",
   "metadata": {},
   "source": [
    "### Visualization\n"
   ]
  },
  {
   "cell_type": "code",
   "execution_count": null,
   "metadata": {},
   "outputs": [],
   "source": [
    "# Set the desired size of the image\n",
    "image_size = kgrid.size\n",
    "\n",
    "# Create the axis variables\n",
    "x_axis = [0, image_size[0] * 1e3 * 1.1] # [mm]\n",
    "y_axis = [-0.5 * image_size[1] * 1e3, 0.5 * image_size[1] * 1e3]  # [mm]\n",
    "\n",
    "# make plotting non-blocking\n",
    "plt.ion()\n",
    "# Plot the data before and after scan conversion\n",
    "plt.figure(figsize=(14, 4))\n",
    "# plot the sound speed map\n",
    "plt.subplot(1, 3, 1)\n",
    "plt.imshow(sound_speed_map[:, 64:-64, int(grid_size_points.z / 2)], aspect='auto',\n",
    "            extent=[y_axis[0], y_axis[1], x_axis[1], x_axis[0]])\n",
    "plt.title('Sound Speed')\n",
    "plt.xlabel('Width [mm]')\n",
    "plt.ylabel('Depth [mm]')\n",
    "ax = plt.gca()\n",
    "ax.set_ylim(40, 5)\n",
    "plt.subplot(1, 3, 2)\n",
    "plt.imshow(scan_lines_fund.T, cmap='gray', aspect='auto',  extent=[y_axis[0], y_axis[1], x_axis[1], x_axis[0]])\n",
    "plt.xlabel('Image width [mm]')\n",
    "plt.title('Fundamental')\n",
    "ax = plt.gca()\n",
    "ax.set_ylim(40, 5)\n",
    "plt.yticks([])\n",
    "plt.subplot(1, 3, 3)\n",
    "plt.imshow(scan_lines_harm.T, cmap='gray', aspect='auto', extent=[y_axis[0], y_axis[1], x_axis[1], x_axis[0]])\n",
    "plt.yticks([])\n",
    "plt.xlabel('Image width [mm]')\n",
    "plt.title('Harmonic')\n",
    "ax = plt.gca()\n",
    "ax.set_ylim(40, 5)\n",
    "plt.show()"
   ]
  },
  {
   "cell_type": "code",
   "execution_count": null,
   "metadata": {},
   "outputs": [],
   "source": [
    "# Creating a dictionary with the step labels as keys\n",
    "processing_steps = {\n",
    "    '1. Beamformed Signal': scan_lines_no_input,\n",
    "    '2. Time Gain Compensation': scan_lines_tgc,\n",
    "    '3. Frequency Filtering': scan_lines_fund_ex,\n",
    "    '4. Envelope Detection': scan_lines_fund_env_ex,\n",
    "    '5. Log Compression': scan_lines_fund_log_ex\n",
    "}\n",
    "\n",
    "plt.figure(figsize=(14, 4), tight_layout=True)\n",
    "\n",
    "offset = -6e5\n",
    "# Plotting each step using the dictionary\n",
    "for i, (label, data) in enumerate(processing_steps.items()):\n",
    "    plt.plot(kgrid.t_array.squeeze(), data.squeeze() + offset * i, label=label)\n",
    "\n",
    "# Set y-ticks and y-labels\n",
    "plt.yticks([offset * i for i in range(5)], list(processing_steps.keys()))\n",
    "plt.xlabel('Time [\\u03BCs]')\n",
    "plt.xlim(5e-3 * 2 / c0, t_end)\n",
    "plt.title('Processing Steps Visualization')\n",
    "plt.show()\n"
   ]
  }
 ],
 "metadata": {
  "colab": {
   "provenance": []
  },
  "kernelspec": {
   "display_name": "Python 3",
   "name": "python3"
  },
  "language_info": {
   "codemirror_mode": {
    "name": "ipython",
    "version": 3
   },
   "file_extension": ".py",
   "mimetype": "text/x-python",
   "name": "python",
   "nbconvert_exporter": "python",
   "pygments_lexer": "ipython3"
  }
 },
 "nbformat": 4,
 "nbformat_minor": 0
}
