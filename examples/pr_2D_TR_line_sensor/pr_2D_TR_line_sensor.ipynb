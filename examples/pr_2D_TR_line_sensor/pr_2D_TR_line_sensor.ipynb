{
 "cells": [
  {
   "cell_type": "code",
   "id": "initial_id",
   "metadata": {
    "collapsed": true
   },
   "source": [
    "%%capture\n",
    "!pip install k-wave-python "
   ],
   "outputs": [],
   "execution_count": null
  },
  {
   "metadata": {},
   "cell_type": "code",
   "source": [
    "import matplotlib.pyplot as plt\n",
    "from mpl_toolkits.axes_grid1 import make_axes_locatable\n",
    "import numpy as np\n",
    "from scipy.interpolate import RegularGridInterpolator\n",
    "\n",
    "from kwave.data import Vector\n",
    "from kwave.kgrid import kWaveGrid\n",
    "from kwave.kmedium import kWaveMedium\n",
    "from kwave.ksensor import kSensor\n",
    "from kwave.ksource import kSource\n",
    "from kwave.kspaceFirstOrder2D import kspaceFirstOrder2D\n",
    "from kwave.kspaceLineRecon import kspaceLineRecon\n",
    "from kwave.options.simulation_execution_options import SimulationExecutionOptions\n",
    "from kwave.options.simulation_options import SimulationOptions\n",
    "from kwave.utils.colormap import get_color_map\n",
    "from kwave.utils.mapgen import make_disc\n",
    "from kwave.utils.filters import smooth"
   ],
   "id": "4d18dbe95c4a69b0",
   "outputs": [],
   "execution_count": null
  },
  {
   "metadata": {},
   "cell_type": "markdown",
   "source": [
    "## 2D Time Reversal Reconstruction For A Line Sensor Example\n",
    "\n",
    "This example demonstrates the use of k-Wave for the time-reversal\n",
    "reconstruction of a two-dimensional photoacoustic wave-field recorded\n",
    "over a linear array of sensor elements. The sensor data is simulated and\n",
    "then time-reversed using kspaceFirstOrder2D. It builds on the 2D FFT \n",
    "Reconstruction For A Line Sensor Example."
   ],
   "id": "88cb3b08164514b0"
  },
  {
   "metadata": {},
   "cell_type": "markdown",
   "source": "### SIMULATION",
   "id": "76db584c54e13248"
  },
  {
   "metadata": {},
   "cell_type": "code",
   "source": [
    "# create the computational grid\n",
    "PML_size = 20              # size of the PML in grid points\n",
    "N = Vector([128, 256]) - 2 * PML_size    # number of grid points\n",
    "d = Vector([0.1e-3, 0.1e-3])             # grid point spacing [m]\n",
    "kgrid = kWaveGrid(N, d)"
   ],
   "id": "6eeb7e260b43f43",
   "outputs": [],
   "execution_count": null
  },
  {
   "metadata": {},
   "cell_type": "code",
   "source": [
    "# define the properties of the propagation medium\n",
    "medium = kWaveMedium(\n",
    "    sound_speed=1500,\t# [m/s]\n",
    ")"
   ],
   "id": "7f72a8c783169161",
   "outputs": [],
   "execution_count": null
  },
  {
   "metadata": {},
   "cell_type": "code",
   "source": [
    "# create initial pressure distribution using makeDisc\n",
    "disc_magnitude = 5         # [Pa]\n",
    "disc_pos = Vector([60, 140])            # [grid points]\n",
    "disc_radius = 5            # [grid points]\n",
    "disc_2 = disc_magnitude * make_disc(N, disc_pos, disc_radius)\n",
    "\n",
    "disc_pos = Vector([30, 110])            # [grid points]\n",
    "disc_radius = 8            # [grid points]\n",
    "disc_1 = disc_magnitude * make_disc(N, disc_pos, disc_radius)\n",
    "\n",
    "# smooth the initial pressure distribution and restore the magnitude\n",
    "p0 = smooth(disc_1 + disc_2, restore_max=True)\n",
    "\n",
    "# assign to the source structure\n",
    "source = kSource()\n",
    "source.p0 = p0"
   ],
   "id": "619c6b4d5a08c7a5",
   "outputs": [],
   "execution_count": null
  },
  {
   "metadata": {},
   "cell_type": "code",
   "source": [
    "# define a binary line sensor\n",
    "sensor = kSensor()\n",
    "sensor.mask = np.zeros(N)\n",
    "sensor.mask[0] = 1"
   ],
   "id": "59bbb876871f155e",
   "outputs": [],
   "execution_count": null
  },
  {
   "metadata": {},
   "cell_type": "code",
   "source": [
    "%%capture\n",
    "\n",
    "# create the time array\n",
    "kgrid.makeTime(medium.sound_speed)"
   ],
   "id": "a23b0c47baf1bde2",
   "outputs": [],
   "execution_count": null
  },
  {
   "metadata": {},
   "cell_type": "code",
   "source": [
    "# set the input arguements: force the PML to be outside the computational\n",
    "# grid; switch off p0 smoothing within kspaceFirstOrder2D\n",
    "simulation_options = SimulationOptions(\n",
    "    pml_inside=False,\n",
    "    pml_size=PML_size,\n",
    "    smooth_p0=False,\n",
    "    save_to_disk=True,\n",
    "    data_cast=\"single\",\n",
    ")\n",
    "execution_options = SimulationExecutionOptions(is_gpu_simulation=True)"
   ],
   "id": "c85b2aacc4cc6bcc",
   "outputs": [],
   "execution_count": null
  },
  {
   "metadata": {},
   "cell_type": "code",
   "source": [
    "# run the simulation\n",
    "sensor_data = kspaceFirstOrder2D(kgrid, source, sensor, medium, simulation_options, execution_options)\n",
    "sensor_data = sensor_data['p'].T"
   ],
   "id": "db85c9943ed5f91a",
   "outputs": [],
   "execution_count": null
  },
  {
   "metadata": {},
   "cell_type": "code",
   "source": [
    "# reset the initial pressure and sensor\n",
    "source = kSource()\n",
    "sensor = kSensor()\n",
    "sensor.mask = np.zeros(N)\n",
    "sensor.mask[0] = 1\n",
    "\n",
    "# assign the time reversal data\n",
    "sensor.time_reversal_boundary_data = sensor_data\n",
    "\n",
    "# run the time reversal reconstruction\n",
    "p0_recon = kspaceFirstOrder2D(kgrid, source, sensor, medium, simulation_options, execution_options)\n",
    "p0_recon = p0_recon['p_final'].T\n",
    "\n",
    "# add first order compensation for only recording over a half plane\n",
    "p0_recon = 2 * p0_recon"
   ],
   "id": "fc22514bed1e2a98",
   "outputs": [],
   "execution_count": null
  },
  {
   "metadata": {},
   "cell_type": "code",
   "source": [
    "# repeat the FFT reconstruction for comparison\n",
    "p_xy = kspaceLineRecon(sensor_data.T, dy=d[1], dt=kgrid.dt.item(), c=medium.sound_speed.item(), pos_cond=True, interp='linear')\n",
    "\n",
    "# define a second k-space grid using the dimensions of p_xy\n",
    "N_recon = Vector(p_xy.shape)\n",
    "d_recon = Vector([kgrid.dt * medium.sound_speed.item(), kgrid.dy])\n",
    "kgrid_recon = kWaveGrid(N_recon, d_recon)\n",
    "\n",
    "# resample p_xy to be the same size as source.p0\n",
    "interp_func = RegularGridInterpolator(\n",
    "    (kgrid_recon.x_vec[:, 0] - kgrid_recon.x_vec.min(), kgrid_recon.y_vec[:, 0]),\n",
    "    p_xy, method='linear'\n",
    ")\n",
    "query_points = np.stack((kgrid.x - kgrid.x.min(), kgrid.y), axis=-1)\n",
    "p_xy_rs = interp_func(query_points)"
   ],
   "id": "431b7bb0ee525b5e",
   "outputs": [],
   "execution_count": null
  },
  {
   "metadata": {},
   "cell_type": "markdown",
   "source": "### VISUALIZATION",
   "id": "7305f8eba3374df2"
  },
  {
   "metadata": {},
   "cell_type": "code",
   "source": "cmap = get_color_map()",
   "id": "7c8e399f00971c60",
   "outputs": [],
   "execution_count": null
  },
  {
   "metadata": {},
   "cell_type": "code",
   "source": [
    "# Plot the initial pressure and sensor distribution\n",
    "fig, ax = plt.subplots(1, 1)\n",
    "im = ax.imshow(p0 + sensor.mask * disc_magnitude,\n",
    "           extent=[kgrid.y_vec.min() * 1e3, kgrid.y_vec.max() * 1e3, kgrid.x_vec.max() * 1e3, kgrid.x_vec.min() * 1e3],\n",
    "           vmin=-disc_magnitude, vmax=disc_magnitude, cmap=cmap)\n",
    "divider = make_axes_locatable(ax)\n",
    "cax = divider.append_axes(\"right\", size=\"3%\", pad=\"2%\")\n",
    "ax.set_ylabel('x-position [mm]')\n",
    "ax.set_xlabel('y-position [mm]')\n",
    "fig.colorbar(im, cax=cax)\n",
    "plt.show()"
   ],
   "id": "b159649563e8767e",
   "outputs": [],
   "execution_count": null
  },
  {
   "metadata": {},
   "cell_type": "code",
   "source": [
    "# Plot the reconstructed initial pressure\n",
    "fig, ax = plt.subplots(1, 1)\n",
    "im = ax.imshow(p0_recon,\n",
    "           extent=[kgrid.y_vec.min() * 1e3, kgrid.y_vec.max() * 1e3, kgrid.x_vec.max() * 1e3, kgrid.x_vec.min() * 1e3],\n",
    "           vmin=-disc_magnitude, vmax=disc_magnitude, cmap=cmap)\n",
    "divider = make_axes_locatable(ax)\n",
    "cax = divider.append_axes(\"right\", size=\"3%\", pad=\"2%\")\n",
    "ax.set_ylabel('x-position [mm]')\n",
    "ax.set_xlabel('y-position [mm]')\n",
    "fig.colorbar(im, cax=cax)\n",
    "plt.show()"
   ],
   "id": "9bc5d6d4b6761d4",
   "outputs": [],
   "execution_count": null
  },
  {
   "metadata": {},
   "cell_type": "code",
   "source": [
    "# Apply a positivity condition\n",
    "p0_recon[p0_recon < 0] = 0\n",
    "\n",
    "# Plot the reconstructed initial pressure with positivity condition\n",
    "fig, ax = plt.subplots(1, 1)\n",
    "im = ax.imshow(p0_recon,\n",
    "           extent=[kgrid.y_vec.min() * 1e3, kgrid.y_vec.max() * 1e3, kgrid.x_vec.max() * 1e3, kgrid.x_vec.min() * 1e3],\n",
    "           vmin=-disc_magnitude, vmax=disc_magnitude, cmap=cmap)\n",
    "divider = make_axes_locatable(ax)\n",
    "cax = divider.append_axes(\"right\", size=\"3%\", pad=\"2%\")\n",
    "ax.set_ylabel('x-position [mm]')\n",
    "ax.set_xlabel('y-position [mm]')\n",
    "fig.colorbar(im, cax=cax)\n",
    "plt.show()"
   ],
   "id": "4b70ab1746f0ed88",
   "outputs": [],
   "execution_count": null
  },
  {
   "metadata": {},
   "cell_type": "code",
   "source": [
    "# Plot a profile for comparison\n",
    "plt.plot(kgrid.y_vec[:, 0] * 1e3, p0[disc_pos[0], :], 'k-', label='Initial Pressure')\n",
    "plt.plot(kgrid.y_vec[:, 0] * 1e3, p_xy_rs[disc_pos[0], :], 'r--', label='FFT Reconstruction')\n",
    "plt.plot(kgrid.y_vec[:, 0] * 1e3, p0_recon[disc_pos[0], :], 'b:', label='Time Reversal')\n",
    "plt.xlabel('y-position [mm]')\n",
    "plt.ylabel('Pressure')\n",
    "plt.legend()\n",
    "plt.axis('tight')\n",
    "plt.ylim([0, 5.1])\n",
    "plt.show()"
   ],
   "id": "a95d4b11c4111e59",
   "outputs": [],
   "execution_count": null
  }
 ],
 "metadata": {
  "kernelspec": {
   "display_name": "Python 3",
   "language": "python",
   "name": "python3"
  },
  "language_info": {
   "codemirror_mode": {
    "name": "ipython",
    "version": 2
   },
   "file_extension": ".py",
   "mimetype": "text/x-python",
   "name": "python",
   "nbconvert_exporter": "python",
   "pygments_lexer": "ipython2",
   "version": "2.7.6"
  }
 },
 "nbformat": 4,
 "nbformat_minor": 5
}
