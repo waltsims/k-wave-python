{
  "cells": [
    {
      "cell_type": "code",
      "execution_count": 1,
      "id": "20662708-c2b3-46e9-85fb-15270dff5f8a",
      "metadata": {
        "id": "20662708-c2b3-46e9-85fb-15270dff5f8a",
        "outputId": "cf4ca1b8-7d98-4699-833d-1a403b73544b",
        "colab": {
          "base_uri": "https://localhost:8080/",
          "height": 1000
        }
      },
      "outputs": [
        {
          "output_type": "stream",
          "name": "stdout",
          "text": [
            "Collecting k-wave-python\n",
            "  Downloading k_wave_python-0.3.2-py3-none-any.whl (212 kB)\n",
            "\u001b[2K     \u001b[90m━━━━━━━━━━━━━━━━━━━━━━━━━━━━━━━━━━━━━━━━\u001b[0m \u001b[32m212.3/212.3 kB\u001b[0m \u001b[31m5.6 MB/s\u001b[0m eta \u001b[36m0:00:00\u001b[0m\n",
            "\u001b[?25hCollecting beartype==0.16.4 (from k-wave-python)\n",
            "  Downloading beartype-0.16.4-py3-none-any.whl (819 kB)\n",
            "\u001b[2K     \u001b[90m━━━━━━━━━━━━━━━━━━━━━━━━━━━━━━━━━━━━━━━━\u001b[0m \u001b[32m819.1/819.1 kB\u001b[0m \u001b[31m22.6 MB/s\u001b[0m eta \u001b[36m0:00:00\u001b[0m\n",
            "\u001b[?25hCollecting deepdiff==6.7.1 (from k-wave-python)\n",
            "  Downloading deepdiff-6.7.1-py3-none-any.whl (76 kB)\n",
            "\u001b[2K     \u001b[90m━━━━━━━━━━━━━━━━━━━━━━━━━━━━━━━━━━━━━━━━\u001b[0m \u001b[32m76.6/76.6 kB\u001b[0m \u001b[31m10.1 MB/s\u001b[0m eta \u001b[36m0:00:00\u001b[0m\n",
            "\u001b[?25hCollecting h5py==3.10.0 (from k-wave-python)\n",
            "  Downloading h5py-3.10.0-cp310-cp310-manylinux_2_17_x86_64.manylinux2014_x86_64.whl (4.8 MB)\n",
            "\u001b[2K     \u001b[90m━━━━━━━━━━━━━━━━━━━━━━━━━━━━━━━━━━━━━━━━\u001b[0m \u001b[32m4.8/4.8 MB\u001b[0m \u001b[31m39.7 MB/s\u001b[0m eta \u001b[36m0:00:00\u001b[0m\n",
            "\u001b[?25hCollecting matplotlib==3.8.3 (from k-wave-python)\n",
            "  Downloading matplotlib-3.8.3-cp310-cp310-manylinux_2_17_x86_64.manylinux2014_x86_64.whl (11.6 MB)\n",
            "\u001b[2K     \u001b[90m━━━━━━━━━━━━━━━━━━━━━━━━━━━━━━━━━━━━━━━━\u001b[0m \u001b[32m11.6/11.6 MB\u001b[0m \u001b[31m85.1 MB/s\u001b[0m eta \u001b[36m0:00:00\u001b[0m\n",
            "\u001b[?25hCollecting nptyping==2.5.0 (from k-wave-python)\n",
            "  Downloading nptyping-2.5.0-py3-none-any.whl (37 kB)\n",
            "Requirement already satisfied: numpy<1.27.0,>=1.22.2 in /usr/local/lib/python3.10/dist-packages (from k-wave-python) (1.25.2)\n",
            "Collecting opencv-python==4.9.0.80 (from k-wave-python)\n",
            "  Downloading opencv_python-4.9.0.80-cp37-abi3-manylinux_2_17_x86_64.manylinux2014_x86_64.whl (62.2 MB)\n",
            "\u001b[2K     \u001b[90m━━━━━━━━━━━━━━━━━━━━━━━━━━━━━━━━━━━━━━━━\u001b[0m \u001b[32m62.2/62.2 MB\u001b[0m \u001b[31m11.5 MB/s\u001b[0m eta \u001b[36m0:00:00\u001b[0m\n",
            "\u001b[?25hCollecting scipy==1.12.0 (from k-wave-python)\n",
            "  Downloading scipy-1.12.0-cp310-cp310-manylinux_2_17_x86_64.manylinux2014_x86_64.whl (38.4 MB)\n",
            "\u001b[2K     \u001b[90m━━━━━━━━━━━━━━━━━━━━━━━━━━━━━━━━━━━━━━━━\u001b[0m \u001b[32m38.4/38.4 MB\u001b[0m \u001b[31m24.1 MB/s\u001b[0m eta \u001b[36m0:00:00\u001b[0m\n",
            "\u001b[?25hCollecting ordered-set<4.2.0,>=4.0.2 (from deepdiff==6.7.1->k-wave-python)\n",
            "  Downloading ordered_set-4.1.0-py3-none-any.whl (7.6 kB)\n",
            "Requirement already satisfied: contourpy>=1.0.1 in /usr/local/lib/python3.10/dist-packages (from matplotlib==3.8.3->k-wave-python) (1.2.0)\n",
            "Requirement already satisfied: cycler>=0.10 in /usr/local/lib/python3.10/dist-packages (from matplotlib==3.8.3->k-wave-python) (0.12.1)\n",
            "Requirement already satisfied: fonttools>=4.22.0 in /usr/local/lib/python3.10/dist-packages (from matplotlib==3.8.3->k-wave-python) (4.49.0)\n",
            "Requirement already satisfied: kiwisolver>=1.3.1 in /usr/local/lib/python3.10/dist-packages (from matplotlib==3.8.3->k-wave-python) (1.4.5)\n",
            "Requirement already satisfied: packaging>=20.0 in /usr/local/lib/python3.10/dist-packages (from matplotlib==3.8.3->k-wave-python) (23.2)\n",
            "Requirement already satisfied: pillow>=8 in /usr/local/lib/python3.10/dist-packages (from matplotlib==3.8.3->k-wave-python) (9.4.0)\n",
            "Requirement already satisfied: pyparsing>=2.3.1 in /usr/local/lib/python3.10/dist-packages (from matplotlib==3.8.3->k-wave-python) (3.1.2)\n",
            "Requirement already satisfied: python-dateutil>=2.7 in /usr/local/lib/python3.10/dist-packages (from matplotlib==3.8.3->k-wave-python) (2.8.2)\n",
            "Requirement already satisfied: six>=1.5 in /usr/local/lib/python3.10/dist-packages (from python-dateutil>=2.7->matplotlib==3.8.3->k-wave-python) (1.16.0)\n",
            "Installing collected packages: scipy, ordered-set, opencv-python, nptyping, h5py, beartype, matplotlib, deepdiff, k-wave-python\n",
            "  Attempting uninstall: scipy\n",
            "    Found existing installation: scipy 1.11.4\n",
            "    Uninstalling scipy-1.11.4:\n",
            "      Successfully uninstalled scipy-1.11.4\n",
            "  Attempting uninstall: opencv-python\n",
            "    Found existing installation: opencv-python 4.8.0.76\n",
            "    Uninstalling opencv-python-4.8.0.76:\n",
            "      Successfully uninstalled opencv-python-4.8.0.76\n",
            "  Attempting uninstall: h5py\n",
            "    Found existing installation: h5py 3.9.0\n",
            "    Uninstalling h5py-3.9.0:\n",
            "      Successfully uninstalled h5py-3.9.0\n",
            "  Attempting uninstall: matplotlib\n",
            "    Found existing installation: matplotlib 3.7.1\n",
            "    Uninstalling matplotlib-3.7.1:\n",
            "      Successfully uninstalled matplotlib-3.7.1\n",
            "Successfully installed beartype-0.16.4 deepdiff-6.7.1 h5py-3.10.0 k-wave-python-0.3.2 matplotlib-3.8.3 nptyping-2.5.0 opencv-python-4.9.0.80 ordered-set-4.1.0 scipy-1.12.0\n"
          ]
        },
        {
          "output_type": "display_data",
          "data": {
            "application/vnd.colab-display-data+json": {
              "pip_warning": {
                "packages": [
                  "matplotlib",
                  "mpl_toolkits"
                ]
              },
              "id": "ef1a1871599c4a9e8925d98ceb4d7c02"
            }
          },
          "metadata": {}
        }
      ],
      "source": [
        "!pip install k-wave-python"
      ]
    },
    {
      "cell_type": "code",
      "execution_count": 1,
      "id": "4282a367-8c38-4a4c-90fc-7a245bf438b4",
      "metadata": {
        "id": "4282a367-8c38-4a4c-90fc-7a245bf438b4"
      },
      "outputs": [],
      "source": [
        "import numpy as np\n",
        "\n",
        "import matplotlib.pyplot as plt\n",
        "\n",
        "from kwave.data import Vector\n",
        "from kwave.utils.kwave_array import kWaveArray\n",
        "from kwave.utils.checks import check_stability\n",
        "from kwave.kgrid import kWaveGrid\n",
        "from kwave.kmedium import kWaveMedium\n",
        "from kwave.ksource import kSource\n",
        "from kwave.ksensor import kSensor\n",
        "from kwave.utils.signals import create_cw_signals\n",
        "from kwave.utils.filters import extract_amp_phase\n",
        "from kwave.kspaceFirstOrder2D import kspace_first_order_2d_gpu\n",
        "\n",
        "from kwave.options.simulation_options import SimulationOptions\n",
        "from kwave.options.simulation_execution_options import SimulationExecutionOptions"
      ]
    },
    {
      "cell_type": "code",
      "execution_count": 2,
      "id": "8164b2ca-efe1-4f33-a83d-9cfcc5ad6aff",
      "metadata": {
        "id": "8164b2ca-efe1-4f33-a83d-9cfcc5ad6aff"
      },
      "outputs": [],
      "source": [
        "Nx: int = 141\n",
        "Nz: int = 241\n",
        "\n",
        "dx: float = 0.5e-3\n",
        "dz: float = dx"
      ]
    },
    {
      "cell_type": "code",
      "execution_count": 3,
      "id": "abdecae6-abf5-4b06-ad02-2a77af799de3",
      "metadata": {
        "id": "abdecae6-abf5-4b06-ad02-2a77af799de3"
      },
      "outputs": [],
      "source": [
        "# =========================================================================\n",
        "# DEFINE THE MATERIAL PROPERTIES\n",
        "# =========================================================================\n",
        "\n",
        "# water\n",
        "sound_speed = 1500.0 * np.ones((Nx, Nz))\n",
        "density = 1000.0 * np.ones((Nx, Nz))\n",
        "alpha_coeff = np.zeros((Nx, Nz))\n",
        "\n",
        "# non-dispersive\n",
        "alpha_power = 2.0\n",
        "\n",
        "# cortical bone\n",
        "sound_speed[:, 60:74] = 2800.0\n",
        "density[:, 60:74] = 1850.0\n",
        "alpha_coeff[:, 60:74] = 4.0\n",
        "\n",
        "c0_min = np.min(np.ravel(sound_speed))\n",
        "c0_max = np.max(np.ravel(sound_speed))\n",
        "\n",
        "medium = kWaveMedium(sound_speed=sound_speed,\n",
        "                     density=density,\n",
        "                     alpha_coeff=alpha_coeff,\n",
        "                     alpha_power=alpha_power)"
      ]
    },
    {
      "cell_type": "code",
      "execution_count": 4,
      "id": "51b2b4e3-30dc-4a1b-aca5-0c9fe8dbe039",
      "metadata": {
        "id": "51b2b4e3-30dc-4a1b-aca5-0c9fe8dbe039"
      },
      "outputs": [],
      "source": [
        "# =========================================================================\n",
        "# DEFINE THE TRANSDUCER SETUP\n",
        "# =========================================================================\n",
        "\n",
        "# radius of planar transducer\n",
        "radius = 10E-3\n",
        "\n",
        "# frequency [Hz]\n",
        "freq = 500e3\n",
        "\n",
        "# source pressure [Pa]\n",
        "source_amp = np.array([60e3])\n",
        "\n",
        "# phase [rad]\n",
        "source_phase = np.array([0.0])"
      ]
    },
    {
      "cell_type": "code",
      "execution_count": 5,
      "id": "5c64874d-5718-4f2d-ad47-954417ca9706",
      "metadata": {
        "id": "5c64874d-5718-4f2d-ad47-954417ca9706"
      },
      "outputs": [],
      "source": [
        "# =========================================================================\n",
        "# DEFINE COMPUTATIONAL PARAMETERS\n",
        "# =========================================================================\n",
        "\n",
        "useMaxTimeStep: bool = True\n",
        "\n",
        "# wavelength\n",
        "k_min: float = c0_min / freq\n",
        "\n",
        "# points per wavelength\n",
        "ppw: float = k_min / dx\n",
        "\n",
        "# number of periods to record\n",
        "record_periods: int = 3\n",
        "\n",
        "# compute points per period\n",
        "ppp: int = 60\n",
        "\n",
        "# CFL number determines time step\n",
        "cfl: float = (ppw / ppp)"
      ]
    },
    {
      "cell_type": "code",
      "execution_count": 6,
      "id": "aaacacf8-cce0-4e7d-b76c-e87ad1236377",
      "metadata": {
        "id": "aaacacf8-cce0-4e7d-b76c-e87ad1236377"
      },
      "outputs": [],
      "source": [
        "# =========================================================================\n",
        "# DEFINE THE KGRID\n",
        "# =========================================================================\n",
        "\n",
        "grid_size_points = Vector([Nx, Nz])\n",
        "\n",
        "grid_spacing_meters = Vector([dx, dz])\n",
        "\n",
        "# create the k-space grid\n",
        "kgrid = kWaveGrid(grid_size_points, grid_spacing_meters)"
      ]
    },
    {
      "cell_type": "code",
      "execution_count": 7,
      "id": "b181b1d1-b13f-40b2-9271-84e2d0658c55",
      "metadata": {
        "id": "b181b1d1-b13f-40b2-9271-84e2d0658c55"
      },
      "outputs": [],
      "source": [
        "# =========================================================================\n",
        "# DEFINE THE TIME VECTOR\n",
        "# =========================================================================\n",
        "\n",
        "# compute corresponding time stepping\n",
        "dt = 1.0 / (ppp * freq)\n",
        "\n",
        "# compute corresponding time stepping\n",
        "dt = (c0_min / c0_max) / (float(ppp) * freq)\n",
        "\n",
        "dt_stability_limit = check_stability(kgrid, medium)\n",
        "\n",
        "if (useMaxTimeStep and (not np.isfinite(dt_stability_limit)) and (dt_stability_limit < dt)):\n",
        "    dt_old = dt\n",
        "    ppp = np.ceil(1.0 / (dt_stability_limit * freq))\n",
        "    dt = 1.0 / (ppp * freq)\n",
        "\n",
        "# calculate the number of time steps to reach steady state\n",
        "t_end = np.sqrt(kgrid.x_size**2 + kgrid.y_size**2) / c0_min\n",
        "\n",
        "# create the time array using an integer number of points per period\n",
        "Nt = round(t_end / dt)\n",
        "\n",
        "# make time array\n",
        "kgrid.setTime(Nt, dt)\n",
        "\n",
        "# calculate the actual CFL after adjusting for dt\n",
        "cfl_actual = 1.0 / (dt * freq)"
      ]
    },
    {
      "cell_type": "code",
      "execution_count": 8,
      "id": "871a4da9-e2c6-42e2-806c-ef5b7d0d83f6",
      "metadata": {
        "id": "871a4da9-e2c6-42e2-806c-ef5b7d0d83f6"
      },
      "outputs": [],
      "source": [
        "# =========================================================================\n",
        "# DEFINE THE SOURCE PARAMETERS\n",
        "# =========================================================================\n",
        "\n",
        "# create empty kWaveArray this specfies the transducer properties\n",
        "karray = kWaveArray(bli_tolerance=0.01,\n",
        "                    upsampling_rate=16,\n",
        "                    single_precision=True)\n",
        "\n",
        "# element positions\n",
        "start_point = [-radius, kgrid.y_vec[0].item()]\n",
        "\n",
        "end_point = [radius + dx, kgrid.y_vec[0].item()]\n",
        "\n",
        "karray.add_line_element(start_point, end_point)\n",
        "\n",
        "# create time varying source\n",
        "source_sig = create_cw_signals(np.squeeze(kgrid.t_array),\n",
        "                               freq,\n",
        "                               source_amp,\n",
        "                               source_phase)\n",
        "\n",
        "# make a source object.\n",
        "source = kSource()\n",
        "\n",
        "# assign binary mask using the karray\n",
        "source.p_mask = karray.get_array_binary_mask(kgrid)\n",
        "\n",
        "# assign source pressure output in time\n",
        "source.p = karray.get_distributed_source_signal(kgrid, source_sig)"
      ]
    },
    {
      "cell_type": "code",
      "execution_count": 9,
      "id": "1a163bb4-585b-4dbc-a3fe-eac35d355d34",
      "metadata": {
        "id": "1a163bb4-585b-4dbc-a3fe-eac35d355d34"
      },
      "outputs": [],
      "source": [
        "# =========================================================================\n",
        "# DEFINE THE SENSOR PARAMETERS\n",
        "# =========================================================================\n",
        "\n",
        "sensor = kSensor()\n",
        "\n",
        "# set sensor mask: the mask says at which points data should be recorded\n",
        "sensor.mask = np.ones((Nx, Nz), dtype=bool)\n",
        "\n",
        "# set the record type: record the pressure waveform\n",
        "sensor.record = ['p']\n",
        "\n",
        "# record the final few periods when the field is in steady state\n",
        "sensor.record_start_index = kgrid.Nt - (record_periods * ppp) + 1"
      ]
    },
    {
      "cell_type": "code",
      "execution_count": 10,
      "id": "70482df0-7ccc-4e42-b00d-88e8952e28f5",
      "metadata": {
        "id": "70482df0-7ccc-4e42-b00d-88e8952e28f5"
      },
      "outputs": [],
      "source": [
        "# =========================================================================\n",
        "# DEFINE THE SIMULATION PARAMETERS\n",
        "# =========================================================================\n",
        "\n",
        "DATA_CAST = 'single'\n",
        "DATA_PATH = './'\n",
        "\n",
        "input_filename = 'ph1_bm3_sc2_input.h5'\n",
        "output_filename = 'ph1_bm3_sc2_output.h5'\n",
        "\n",
        "# options for writing to file, but not doing simulations\n",
        "simulation_options = SimulationOptions(\n",
        "    data_cast=DATA_CAST,\n",
        "    data_recast=True,\n",
        "    save_to_disk=True,\n",
        "    input_filename=input_filename,\n",
        "    output_filename=output_filename,\n",
        "    save_to_disk_exit=False,\n",
        "    data_path=DATA_PATH,\n",
        "    pml_inside=False)\n",
        "\n",
        "execution_options = SimulationExecutionOptions(\n",
        "    is_gpu_simulation=True,\n",
        "    delete_data=False,\n",
        "    verbose_level=2)"
      ]
    },
    {
      "cell_type": "code",
      "execution_count": 11,
      "id": "3d698217-80ac-42b2-bf58-d0fb8632cb40",
      "metadata": {
        "id": "3d698217-80ac-42b2-bf58-d0fb8632cb40",
        "outputId": "d92cd187-b30e-41bf-bb9d-fc995e83b9f9",
        "colab": {
          "base_uri": "https://localhost:8080/"
        }
      },
      "outputs": [
        {
          "output_type": "stream",
          "name": "stderr",
          "text": [
            "WARNING:root:Highest prime factors in each dimension are [181 281]\n",
            "WARNING:root:Use dimension sizes with lower prime factors to improve speed\n",
            "WARNING:root:DeprecationWarning: Attributes will soon be typed when saved and not saved \n"
          ]
        },
        {
          "output_type": "stream",
          "name": "stdout",
          "text": [
            "┌───────────────────────────────────────────────────────────────┐\n",
            "│                  kspaceFirstOrder-CUDA v1.3                   │\n",
            "├───────────────────────────────────────────────────────────────┤\n",
            "│ Git hash:            468dc31c2842a7df5f2a07c3a13c16c9b0b2b770 │\n",
            "├───────────────────────────────────────────────────────────────┤\n",
            "│ Reading simulation configuration:                        Done │\n",
            "│ File format version:                                      1.2 │\n",
            "│ Selected GPU device id:                                     0 │\n",
            "│ GPU device name:                                     Tesla T4 │\n",
            "│ Number of CPU threads:                                      2 │\n",
            "│ Processor name:                Intel(R) Xeon(R) CPU @ 2.00GHz │\n",
            "├───────────────────────────────────────────────────────────────┤\n",
            "│                      Simulation details                       │\n",
            "├───────────────────────────────────────────────────────────────┤\n",
            "│ Domain dimensions:                                  181 x 281 │\n",
            "│ Medium type:                                               2D │\n",
            "│ Simulation time steps:                                   5212 │\n",
            "├───────────────────────────────────────────────────────────────┤\n",
            "│ Input file:  ./ph1_bm3_sc2_input.h5                           │\n",
            "│ Input file:  ./ph1_bm3_sc2_output.h5                          │\n",
            "├───────────────────────────────────────────────────────────────┤\n",
            "│ Compression level:                                          0 │\n",
            "│ Print progress interval:                                   5% │\n",
            "├───────────────────────────────────────────────────────────────┤\n",
            "│                        Medium details                         │\n",
            "├───────────────────────────────────────────────────────────────┤\n",
            "│ Wave propagation:                                      Linear │\n",
            "│ Absorption type:                                    Power law │\n",
            "│ Medium parameters:                              Heterogeneous │\n",
            "├───────────────────────────────────────────────────────────────┤\n",
            "│                        Source details                         │\n",
            "├───────────────────────────────────────────────────────────────┤\n",
            "│ Pressure source:                                              │\n",
            "│ + Source type:                                           Many │\n",
            "│ + Source condition:                                  Additive │\n",
            "│ + Memory usage:                                        2.11MB │\n",
            "├───────────────────────────────────────────────────────────────┤\n",
            "│                        Sensor details                         │\n",
            "├───────────────────────────────────────────────────────────────┤\n",
            "│ Sensor mask type:                                       Index │\n",
            "│ Sampling begins at time step:                            5033 │\n",
            "├───────────────────────────────────────────────────────────────┤\n",
            "│ Pressure sensor p_raw                                         │\n",
            "│ + File usage:                                         23.33MB │\n",
            "├───────────────────────────────────────────────────────────────┤\n",
            "│                        Initialization                         │\n",
            "├───────────────────────────────────────────────────────────────┤\n",
            "│ Memory allocation:                                       Done │\n",
            "│ Data loading:                                                 │\n",
            "│ + Reading input file:                                    Done │\n",
            "│ + Creating output file:                                  Done │\n",
            "│ Elapsed time:                                           0.01s │\n",
            "├───────────────────────────────────────────────────────────────┤\n",
            "│ FFT plans creation:                                      Done │\n",
            "│ Pre-processing phase:                                    Done │\n",
            "│ Elapsed time:                                           0.62s │\n",
            "├───────────────────────────────────────────────────────────────┤\n",
            "│                    Computational resources                    │\n",
            "├───────────────────────────────────────────────────────────────┤\n",
            "│ Current host memory in use:                             179MB │\n",
            "│ Current device memory in use:                           123MB │\n",
            "│ Expected output file size:                               23MB │\n",
            "│ CUDA solver grid size [blocks x threads]:           199 x 256 │\n",
            "│ CUDA sampler grid size [blocks x threads]:          133 x 256 │\n",
            "├───────────────────────────────────────────────────────────────┤\n",
            "│                          Simulation                           │\n",
            "├──────────┬────────────────┬──────────────┬────────────────────┤\n",
            "│ Progress │  Elapsed time  │  Time to go  │  Est. finish time  │\n",
            "├──────────┼────────────────┼──────────────┼────────────────────┤\n",
            "│     0%   │        0.001s  │      2.157s  │  13/03/24 10:56:27 │\n",
            "│     5%   │        0.189s  │      3.571s  │  13/03/24 10:56:28 │\n",
            "│    10%   │        0.326s  │      2.925s  │  13/03/24 10:56:27 │\n",
            "│    15%   │        0.426s  │      2.412s  │  13/03/24 10:56:27 │\n",
            "│    20%   │        0.519s  │      2.074s  │  13/03/24 10:56:27 │\n",
            "│    25%   │        0.612s  │      1.833s  │  13/03/24 10:56:26 │\n",
            "│    30%   │        0.705s  │      1.643s  │  13/03/24 10:56:26 │\n",
            "│    35%   │        0.798s  │      1.479s  │  13/03/24 10:56:26 │\n",
            "│    40%   │        0.890s  │      1.334s  │  13/03/24 10:56:26 │\n",
            "│    45%   │        0.983s  │      1.200s  │  13/03/24 10:56:27 │\n",
            "│    50%   │        1.076s  │      1.074s  │  13/03/24 10:56:27 │\n",
            "│    55%   │        1.169s  │      0.955s  │  13/03/24 10:56:26 │\n",
            "│    60%   │        1.267s  │      0.844s  │  13/03/24 10:56:26 │\n",
            "│    65%   │        1.418s  │      0.763s  │  13/03/24 10:56:26 │\n",
            "│    70%   │        1.621s  │      0.694s  │  13/03/24 10:56:26 │\n",
            "│    75%   │        1.874s  │      0.623s  │  13/03/24 10:56:26 │\n",
            "│    80%   │        2.119s  │      0.529s  │  13/03/24 10:56:27 │\n",
            "│    85%   │        2.331s  │      0.410s  │  13/03/24 10:56:27 │\n",
            "│    90%   │        2.526s  │      0.280s  │  13/03/24 10:56:27 │\n",
            "│    95%   │        2.693s  │      0.141s  │  13/03/24 10:56:27 │\n",
            "├──────────┴────────────────┴──────────────┴────────────────────┤\n",
            "│ Elapsed time:                                           3.10s │\n",
            "├───────────────────────────────────────────────────────────────┤\n",
            "│ Sampled data post-processing:                            Done │\n",
            "│ Elapsed time:                                           0.00s │\n",
            "├───────────────────────────────────────────────────────────────┤\n",
            "│                            Summary                            │\n",
            "├───────────────────────────────────────────────────────────────┤\n",
            "│ Peak host memory in use:                                179MB │\n",
            "│ Peak device memory in use:                              123MB │\n",
            "├───────────────────────────────────────────────────────────────┤\n",
            "│ Total execution time:                                   4.18s │\n",
            "├───────────────────────────────────────────────────────────────┤\n",
            "│                       End of computation                      │\n",
            "└───────────────────────────────────────────────────────────────┘\n"
          ]
        }
      ],
      "source": [
        "# =========================================================================\n",
        "# RUN THE SIMULATION\n",
        "# =========================================================================\n",
        "\n",
        "sensor_data = kspace_first_order_2d_gpu(\n",
        "    medium=medium,\n",
        "    kgrid=kgrid,\n",
        "    source=source,\n",
        "    sensor=sensor,\n",
        "    simulation_options=simulation_options,\n",
        "    execution_options=execution_options)"
      ]
    },
    {
      "cell_type": "code",
      "execution_count": 15,
      "id": "026657f3-96d8-44b2-aeed-b8ca241285d5",
      "metadata": {
        "id": "026657f3-96d8-44b2-aeed-b8ca241285d5"
      },
      "outputs": [],
      "source": [
        "# =========================================================================\n",
        "# VISUALIZATION\n",
        "# =========================================================================\n",
        "\n",
        "# sampling frequency\n",
        "fs = 1.0 / kgrid.dt\n",
        "\n",
        "# get Fourier coefficients\n",
        "amp, _, _ = extract_amp_phase(sensor_data['p'].T, fs, freq, dim=1, fft_padding=1, window='Rectangular')\n",
        "\n",
        "# reshape to array\n",
        "p = np.reshape(amp, (Nx, Nz), order='F')\n",
        "\n",
        "# axes for plotting\n",
        "x_vec = kgrid.x_vec\n",
        "y_vec = kgrid.y_vec[0] - kgrid.y_vec"
      ]
    },
    {
      "cell_type": "code",
      "source": [
        "fig1, ax1 = plt.subplots(1, 1)\n",
        "p1 = ax1.pcolormesh(1e3 * np.squeeze(x_vec),\n",
        "                    1e3 * np.squeeze(y_vec),\n",
        "                    np.flip(p.T, axis=1) / 1e3,\n",
        "                    shading='gouraud', cmap='viridis')\n",
        "ax1.set(xlabel='Lateral Position [mm]',\n",
        "        ylabel='Axial Position [mm]',\n",
        "        title='PH1-BM3-SC2')\n",
        "ax1.set_aspect('equal')\n",
        "cbar1 = fig1.colorbar(p1, ax=ax1)\n",
        "_ = cbar1.ax.set_title('[kPa]', fontsize='small')"
      ],
      "metadata": {
        "id": "fAOFrBjOdbsn"
      },
      "id": "fAOFrBjOdbsn",
      "execution_count": null,
      "outputs": []
    },
    {
      "cell_type": "code",
      "execution_count": 16,
      "id": "dd4be3b3-5c8b-4b0c-aa08-5a3005af9572",
      "metadata": {
        "id": "dd4be3b3-5c8b-4b0c-aa08-5a3005af9572",
        "outputId": "045607fe-db63-4639-f329-d682a87e1725",
        "colab": {
          "base_uri": "https://localhost:8080/",
          "height": 472
        }
      },
      "outputs": [
        {
          "output_type": "display_data",
          "data": {
            "text/plain": [
              "<Figure size 640x480 with 1 Axes>"
            ],
            "image/png": "[encoded data removed]"
          },
          "metadata": {}
        }
      ],
      "source": [
        "fig2, ax2 = plt.subplots(1, 1)\n",
        "ax2.plot(-1e3 * y_vec, p[(Nx-1)//2, :] / 1e3 )\n",
        "ax2.set(xlabel='Axial Position [mm]',\n",
        "        ylabel='Pressure [kPa]',\n",
        "        title='PH1-BM3-SC2')\n",
        "ax2.grid(True)"
      ]
    },
    {
      "cell_type": "code",
      "execution_count": null,
      "id": "82d8b1d8-b793-4202-87f9-bb7f9c1f3da8",
      "metadata": {
        "id": "82d8b1d8-b793-4202-87f9-bb7f9c1f3da8"
      },
      "outputs": [],
      "source": []
    }
  ],
  "metadata": {
    "kernelspec": {
      "display_name": "Python 3",
      "name": "python3"
    },
    "language_info": {
      "codemirror_mode": {
        "name": "ipython",
        "version": 3
      },
      "file_extension": ".py",
      "mimetype": "text/x-python",
      "name": "python",
      "nbconvert_exporter": "python",
      "pygments_lexer": "ipython3",
      "version": "3.10.11"
    },
    "colab": {
      "provenance": [],
      "gpuType": "T4"
    },
    "accelerator": "GPU"
  },
  "nbformat": 4,
  "nbformat_minor": 5
}