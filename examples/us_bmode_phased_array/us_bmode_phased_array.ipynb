{
 "cells": [
  {
   "cell_type": "code",
   "execution_count": null,
   "metadata": {},
   "outputs": [],
   "source": [
    "%%capture\n",
    "!pip install git+https://github.com/waltsims/k-wave-python"
   ]
  },
  {
   "cell_type": "code",
   "execution_count": null,
   "metadata": {},
   "outputs": [],
   "source": [
    "import numpy as np\n",
    "import scipy.io\n",
    "from matplotlib import pyplot as plt\n",
    "from copy import deepcopy\n",
    "\n",
    "from kwave.data import Vector\n",
    "from kwave.kgrid import kWaveGrid\n",
    "from kwave.kmedium import kWaveMedium\n",
    "from kwave.kspaceFirstOrder3D import kspaceFirstOrder3D\n",
    "from kwave.ktransducer import NotATransducer, kWaveTransducerSimple\n",
    "from kwave.options.simulation_execution_options import SimulationExecutionOptions\n",
    "from kwave.options.simulation_options import SimulationOptions\n",
    "from kwave.utils.dotdictionary import dotdict\n",
    "from kwave.utils.signals import tone_burst, get_win\n",
    "from kwave.utils.filters import gaussian_filter\n",
    "from kwave.utils.conversion import db2neper\n",
    "from kwave.reconstruction.tools import log_compression\n",
    "from kwave.reconstruction.beamform import envelope_detection, scan_conversion\n",
    "from kwave.utils.mapgen import make_ball"
   ]
  },
  {
   "cell_type": "code",
   "execution_count": null,
   "metadata": {},
   "outputs": [],
   "source": [
    "# simulation settings\n",
    "DATA_CAST = 'single'\n",
    "RUN_SIMULATION = True"
   ]
  },
  {
   "cell_type": "code",
   "execution_count": null,
   "metadata": {},
   "outputs": [],
   "source": [
    "pml_size_points = Vector([15, 10, 10])  # [grid points]\n",
    "grid_size_points = Vector([256, 256, 128]) - 2 * pml_size_points  # [grid points]\n",
    "grid_size_meters = 50e-3  # [m]\n",
    "grid_spacing_meters = grid_size_meters / Vector([grid_size_points.x, grid_size_points.x, grid_size_points.x])\n",
    "\n",
    "c0 = 1540\n",
    "rho0 = 1000\n",
    "\n",
    "medium = kWaveMedium(\n",
    "    sound_speed=None,  # will be set later\n",
    "    alpha_coeff=0.75,\n",
    "    alpha_power=1.5,\n",
    "    BonA=6\n",
    ")"
   ]
  },
  {
   "cell_type": "code",
   "execution_count": null,
   "metadata": {},
   "outputs": [],
   "source": [
    "kgrid = kWaveGrid(grid_size_points, grid_spacing_meters)\n",
    "t_end = (grid_size_points.x * grid_spacing_meters.x) * 2.2 / c0  # [s]\n",
    "kgrid.makeTime(c0, t_end=t_end)"
   ]
  },
  {
   "cell_type": "code",
   "execution_count": null,
   "metadata": {},
   "outputs": [],
   "source": [
    "source_strength = 1e6  # [Pa]\n",
    "tone_burst_freq = 1e6  # [Hz]\n",
    "tone_burst_cycles = 4\n",
    "\n",
    "input_signal = tone_burst(1 / kgrid.dt, tone_burst_freq, tone_burst_cycles)\n",
    "input_signal = (source_strength / (c0 * rho0)) * input_signal"
   ]
  },
  {
   "cell_type": "code",
   "execution_count": null,
   "metadata": {},
   "outputs": [],
   "source": [
    "transducer = dotdict()\n",
    "transducer.number_elements = 64  # total number of transducer elements\n",
    "transducer.element_width = 1  # width of each element [grid points/voxels]\n",
    "transducer.element_length = 40  # length of each element [grid points/voxels]\n",
    "transducer.element_spacing = 0  # spacing (kerf  width) between the elements [grid points/voxels]\n",
    "transducer.radius = float('inf')  # radius of curvature of the transducer [m]\n",
    "\n",
    "# calculate the width of the transducer in grid points\n",
    "transducer_width = transducer.number_elements * transducer.element_width + (\n",
    "        transducer.number_elements - 1) * transducer.element_spacing\n",
    "\n",
    "# use this to position the transducer in the middle of the computational grid\n",
    "transducer.position = np.round([\n",
    "    1,\n",
    "    grid_size_points.y / 2 - transducer_width / 2,\n",
    "    grid_size_points.z / 2 - transducer.element_length / 2\n",
    "])\n",
    "transducer = kWaveTransducerSimple(kgrid, **transducer)"
   ]
  },
  {
   "cell_type": "code",
   "execution_count": null,
   "metadata": {},
   "outputs": [],
   "source": [
    "not_transducer = dotdict()\n",
    "not_transducer.sound_speed = c0  # sound speed [m/s]\n",
    "not_transducer.focus_distance = 30e-3  # focus distance [m]\n",
    "not_transducer.elevation_focus_distance = 30e-3  # focus distance in the elevation plane [m]\n",
    "not_transducer.steering_angle = 0  # steering angle [degrees]\n",
    "not_transducer.steering_angle_max = 32  # steering angle [degrees]\n",
    "not_transducer.transmit_apodization = 'Hanning'\n",
    "not_transducer.receive_apodization = 'Rectangular'\n",
    "not_transducer.active_elements = np.ones((transducer.number_elements, 1))\n",
    "not_transducer.input_signal = input_signal\n",
    "\n",
    "not_transducer = NotATransducer(transducer, kgrid, **not_transducer)"
   ]
  },
  {
   "cell_type": "code",
   "execution_count": null,
   "metadata": {},
   "outputs": [],
   "source": [
    "# Define a random distribution of scatterers for the medium\n",
    "background_map_mean = 1\n",
    "background_map_std = 0.008\n",
    "background_map = background_map_mean + background_map_std * np.random.randn(kgrid.Nx, kgrid.Ny, kgrid.Nz)\n",
    "\n",
    "sound_speed_map = c0 * background_map\n",
    "density_map = rho0 * background_map"
   ]
  },
  {
   "cell_type": "code",
   "execution_count": null,
   "metadata": {},
   "outputs": [],
   "source": [
    "# Define a random distribution of scatterers for the highly scattering region\n",
    "scattering_map = np.random.randn(kgrid.Nx, kgrid.Ny, kgrid.Nz)\n",
    "scattering_c0 = np.clip(c0 + 25 + 75 * scattering_map, 1400, 1600)\n",
    "scattering_rho0 = scattering_c0 / 1.5"
   ]
  },
  {
   "cell_type": "code",
   "execution_count": null,
   "metadata": {},
   "outputs": [],
   "source": [
    "# Define a sphere for a highly scattering region\n",
    "radius = 8e-3\n",
    "x_pos = 32e-3\n",
    "y_pos = kgrid.dy * kgrid.Ny / 2\n",
    "z_pos = kgrid.dz * kgrid.Nz / 2\n",
    "ball_center = np.round(Vector([x_pos, y_pos, z_pos]) / kgrid.dx)\n",
    "scattering_region1 = make_ball(grid_size_points, ball_center, round(radius / kgrid.dx)).nonzero()\n",
    "\n",
    "sound_speed_map[scattering_region1] = scattering_c0[scattering_region1]\n",
    "density_map[scattering_region1] = scattering_rho0[scattering_region1]\n",
    "\n",
    "medium.sound_speed = sound_speed_map\n",
    "medium.density = density_map"
   ]
  },
  {
   "cell_type": "code",
   "execution_count": null,
   "metadata": {},
   "outputs": [],
   "source": [
    "# Range of steering angles to test\n",
    "steering_angles = np.arange(-32, 33, 2)\n",
    "\n",
    "# Preallocate the storage\n",
    "number_scan_lines = len(steering_angles)\n",
    "scan_lines = np.zeros((number_scan_lines, kgrid.Nt))\n",
    "\n",
    "if RUN_SIMULATION:\n",
    "    for angle_index in range(number_scan_lines):\n",
    "        print(f'Computing scan line {angle_index} of {number_scan_lines}')\n",
    "\n",
    "        # set the input settings\n",
    "        input_filename = f'example_input_{angle_index}.h5'\n",
    "        # set the input settings\n",
    "        simulation_options = SimulationOptions(\n",
    "            pml_inside=False,\n",
    "            pml_size=pml_size_points,\n",
    "            data_cast=DATA_CAST,\n",
    "            data_recast=True,\n",
    "            save_to_disk=True,\n",
    "            input_filename=input_filename,\n",
    "            save_to_disk_exit=False\n",
    "        )\n",
    "\n",
    "        # Update the current steering angle\n",
    "        not_transducer.steering_angle = steering_angles[angle_index]\n",
    "\n",
    "        sensor_data = kspaceFirstOrder3D(\n",
    "            medium=deepcopy(medium),  # Medium is altered in-place in this function\n",
    "            kgrid=kgrid,\n",
    "            source=not_transducer,\n",
    "            sensor=not_transducer,\n",
    "            simulation_options=simulation_options,\n",
    "            execution_options=SimulationExecutionOptions(is_gpu_simulation=True)\n",
    "        )\n",
    "\n",
    "        scan_lines[angle_index, :] = not_transducer.scan_line(not_transducer.combine_sensor_data(sensor_data['p'].T))\n",
    "\n",
    "    scipy.io.savemat('example_us_phased_array_scan_lines.mat', {'scan_lines': scan_lines})\n",
    "else:\n",
    "    scan_lines = scipy.io.loadmat('example_us_phased_array_scan_lines')['scan_lines']\n"
   ]
  },
  {
   "cell_type": "markdown",
   "metadata": {},
   "source": [
    "## PROCESS THE RESULTS\n",
    "### Remove Input Signal"
   ]
  },
  {
   "cell_type": "code",
   "execution_count": null,
   "metadata": {},
   "outputs": [],
   "source": [
    "# Trim the delay offset from the scan line data\n",
    "t0_offset = int(round(len(input_signal.squeeze())/ 2) + (not_transducer.appended_zeros - not_transducer.beamforming_delays_offset)) \n",
    "\n",
    "scan_lines = scan_lines[:, t0_offset:]\n",
    "\n",
    "Nt = np.shape(scan_lines)[1]\n"
   ]
  },
  {
   "cell_type": "code",
   "execution_count": null,
   "metadata": {},
   "outputs": [],
   "source": [
    "\n",
    "tukey_win, _ = get_win(Nt * 2, 'Tukey', False, 0.05)\n",
    "scan_line_win = np.concatenate((np.zeros([1, t0_offset * 2]), tukey_win.T[:, :int(len(tukey_win)/2) - t0_offset * 2]), axis=1)\n",
    "\n",
    "scan_lines = scan_lines * scan_line_win\n",
    "# store intermediate results"
   ]
  },
  {
   "cell_type": "markdown",
   "metadata": {},
   "source": [
    "### Time Gain Compensation"
   ]
  },
  {
   "cell_type": "code",
   "execution_count": null,
   "metadata": {},
   "outputs": [],
   "source": [
    "# Create radius variable\n",
    "r = c0 * np.arange(1, Nt + 1) * kgrid.dt / 2\n",
    "\n",
    "# Define absorption value and convert to correct units\n",
    "tgc_alpha_db_cm = medium.alpha_coeff * (tone_burst_freq * 1e-6)**medium.alpha_power\n",
    "tgc_alpha_np_m = db2neper(tgc_alpha_db_cm) * 100\n",
    "\n",
    "# Create time gain compensation function\n",
    "tgc = np.exp(tgc_alpha_np_m * 2 * r)\n",
    "\n",
    "# Apply the time gain compensation to each of the scan lines\n",
    "scan_lines *= tgc"
   ]
  },
  {
   "cell_type": "markdown",
   "metadata": {},
   "source": [
    "### Frequency Filtering"
   ]
  },
  {
   "cell_type": "code",
   "execution_count": null,
   "metadata": {},
   "outputs": [],
   "source": [
    "scan_lines_fund = gaussian_filter(scan_lines, 1/kgrid.dt, tone_burst_freq, 100)\n",
    "scan_lines_harm = gaussian_filter(scan_lines, 1/kgrid.dt, 2 * tone_burst_freq, 30)"
   ]
  },
  {
   "cell_type": "markdown",
   "metadata": {},
   "source": [
    "### Envelope Detection"
   ]
  },
  {
   "cell_type": "code",
   "execution_count": null,
   "metadata": {},
   "outputs": [],
   "source": [
    "scan_lines_fund = envelope_detection(scan_lines_fund)\n",
    "scan_lines_harm = envelope_detection(scan_lines_harm)"
   ]
  },
  {
   "cell_type": "markdown",
   "metadata": {},
   "source": [
    "### Log Compression"
   ]
  },
  {
   "cell_type": "code",
   "execution_count": null,
   "metadata": {},
   "outputs": [],
   "source": [
    "compression_ratio = 3\n",
    "scan_lines_fund = log_compression(scan_lines_fund, compression_ratio, True)\n",
    "scan_lines_harm = log_compression(scan_lines_harm, compression_ratio, True)"
   ]
  },
  {
   "cell_type": "markdown",
   "metadata": {},
   "source": [
    "### Visualization"
   ]
  },
  {
   "cell_type": "code",
   "execution_count": null,
   "metadata": {},
   "outputs": [],
   "source": [
    "image_size = [kgrid.Nx * kgrid.dx, kgrid.Ny * kgrid.dy]\n",
    "image_res = [256, 256]\n",
    "\n",
    "b_mode_fund = scan_conversion(scan_lines_fund, steering_angles, image_size, c0, kgrid.dt, image_res)\n",
    "b_mode_harm = scan_conversion(scan_lines_harm, steering_angles, image_size, c0, kgrid.dt, image_res)"
   ]
  },
  {
   "cell_type": "code",
   "execution_count": null,
   "metadata": {},
   "outputs": [],
   "source": [
    "# Create the axis variables\n",
    "x_axis = [0, image_size[0] * 1e3] # [mm]\n",
    "y_axis = [0, image_size[1] * 1e3]  # [mm]"
   ]
  },
  {
   "cell_type": "code",
   "execution_count": null,
   "metadata": {},
   "outputs": [],
   "source": [
    "plt.ion()\n",
    "plt.figure(figsize=(15, 4))\n",
    "plt.subplot(131)\n",
    "plt.imshow(scan_lines.T, aspect='auto',\n",
    "             extent=[steering_angles[-1], steering_angles[0],y_axis[1], y_axis[0] ], interpolation='none', cmap='gray')\n",
    "plt.xlabel('Steering angle [deg]')\n",
    "plt.ylabel('Depth [mm]')\n",
    "plt.title('Raw Scan-Line Data')\n",
    "\n",
    "\n",
    "plt.subplot(132)\n",
    "plt.imshow(scan_lines_fund.T, aspect='auto',\n",
    "            extent=[steering_angles[-1], steering_angles[0],y_axis[1], y_axis[0] ],  interpolation='none', cmap='bone')\n",
    "plt.xlabel('Steering angle [deg]')\n",
    "plt.ylabel('Depth [mm]')\n",
    "plt.title('Processed Scan-Line Data')\n",
    "\n",
    "plt.subplot(133)\n",
    "plt.imshow(b_mode_fund, cmap='bone', aspect='auto',  extent=[y_axis[0], y_axis[1], x_axis[1], x_axis[0]], interpolation='none')\n",
    "plt.xlabel('Horizontal Position [mm]')\n",
    "plt.ylabel('Depth [mm]')\n",
    "plt.title('B-Mode Image')"
   ]
  },
  {
   "cell_type": "code",
   "execution_count": null,
   "metadata": {},
   "outputs": [],
   "source": [
    "plt.figure(figsize=(15, 4))\n",
    "plt.subplot(131)\n",
    "plt.imshow(medium.sound_speed[..., kgrid.Nz//2], aspect='auto',\n",
    "            extent=[y_axis[0], y_axis[1], x_axis[1], x_axis[0]])\n",
    "plt.xlabel('Horizontal Position [mm]')\n",
    "plt.ylabel('Depth [mm]')\n",
    "plt.title('Scattering Phantom')\n",
    "\n",
    "plt.subplot(132)\n",
    "plt.imshow(b_mode_fund, cmap='bone', aspect='auto',  extent=[y_axis[0], y_axis[1], x_axis[1], x_axis[0]], interpolation='none')\n",
    "plt.xlabel('Horizontal Position [mm]')\n",
    "plt.ylabel('Depth [mm]')\n",
    "plt.title('B-Mode Image')\n",
    "\n",
    "plt.subplot(133)\n",
    "plt.imshow(b_mode_harm, cmap='bone', aspect='auto',  extent=[y_axis[0], y_axis[1], x_axis[1], x_axis[0]], interpolation='none')\n",
    "plt.xlabel('Horizontal Position [mm]')\n",
    "plt.ylabel('Depth [mm]')\n",
    "plt.title('Harmonic Image')\n",
    "\n",
    "plt.show()\n"
   ]
  }
 ],
 "metadata": {
  "kernelspec": {
   "display_name": "deep-us",
   "language": "python",
   "name": "python3"
  },
  "language_info": {
   "codemirror_mode": {
    "name": "ipython",
    "version": 3
   },
   "file_extension": ".py",
   "mimetype": "text/x-python",
   "name": "python",
   "nbconvert_exporter": "python",
   "pygments_lexer": "ipython3"
  }
 },
 "nbformat": 4,
 "nbformat_minor": 2
}
