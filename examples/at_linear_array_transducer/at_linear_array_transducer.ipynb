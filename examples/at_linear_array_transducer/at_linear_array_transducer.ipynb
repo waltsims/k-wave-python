{
 "cells": [
  {
   "cell_type": "code",
   "execution_count": null,
   "metadata": {},
   "outputs": [],
   "source": [
    "%%capture\n",
    "!pip install k-wave-python"
   ]
  },
  {
   "cell_type": "code",
   "execution_count": null,
   "metadata": {},
   "outputs": [],
   "source": [
    "import matplotlib.pyplot as plt\n",
    "import numpy as np\n",
    "\n",
    "import kwave.data\n",
    "from kwave.kWaveSimulation import SimulationOptions\n",
    "from kwave.kgrid import kWaveGrid\n",
    "from kwave.kmedium import kWaveMedium\n",
    "from kwave.ksensor import kSensor\n",
    "from kwave.ksource import kSource\n",
    "from kwave.kspaceFirstOrder3D import kspaceFirstOrder3DC\n",
    "from kwave.options.simulation_execution_options import SimulationExecutionOptions\n",
    "from kwave.utils.kwave_array import kWaveArray\n",
    "from kwave.utils.plot import voxel_plot\n",
    "from kwave.utils.signals import tone_burst\n",
    "from kwave.utils.colormap import get_color_map"
   ]
  },
  {
   "cell_type": "code",
   "execution_count": null,
   "metadata": {},
   "outputs": [],
   "source": [
    "# Define constants\n",
    "c0 = 1500\n",
    "rho0 = 1000\n",
    "source_f0 = 1e6\n",
    "source_amp = 1e6\n",
    "source_cycles = 5\n",
    "source_focus = 20e-3\n",
    "element_num = 15\n",
    "element_width = 1e-3\n",
    "element_length = 10e-3\n",
    "element_pitch = 2e-3\n",
    "translation = kwave.data.Vector([5e-3, 0, 8e-3])\n",
    "rotation = kwave.data.Vector([0, 20, 0])\n",
    "grid_size_x = 40e-3\n",
    "grid_size_y = 20e-3\n",
    "grid_size_z = 40e-3\n",
    "ppw = 3\n",
    "t_end = 35e-6\n",
    "cfl = 0.5\n"
   ]
  },
  {
   "cell_type": "code",
   "execution_count": null,
   "metadata": {},
   "outputs": [],
   "source": [
    "%%capture\n",
    "# GRID\n",
    "dx = c0 / (ppw * source_f0)\n",
    "Nx = round(grid_size_x / dx)\n",
    "Ny = round(grid_size_y / dx)\n",
    "Nz = round(grid_size_z / dx)\n",
    "kgrid = kWaveGrid([Nx, Ny, Nz], [dx, dx, dx])\n",
    "kgrid.makeTime(c0, cfl, t_end)"
   ]
  },
  {
   "cell_type": "code",
   "execution_count": null,
   "metadata": {},
   "outputs": [],
   "source": [
    "# SOURCE\n",
    "if element_num % 2 != 0:\n",
    "    ids = np.arange(1, element_num + 1) - np.ceil(element_num / 2)\n",
    "else:\n",
    "    ids = np.arange(1, element_num + 1) - (element_num + 1) / 2\n",
    "\n",
    "time_delays = -(np.sqrt((ids * element_pitch) ** 2 + source_focus ** 2) - source_focus) / c0\n",
    "time_delays = time_delays - min(time_delays)\n",
    "\n",
    "source_sig = source_amp * tone_burst(1 / kgrid.dt, source_f0, source_cycles,\n",
    "                                      signal_offset=np.round(time_delays / kgrid.dt).astype(int))\n",
    "karray = kWaveArray(bli_tolerance=0.05, upsampling_rate=10)\n",
    "\n",
    "for ind in range(element_num):\n",
    "    x_pos = 0 - (element_num * element_pitch / 2 - element_pitch / 2) + ind * element_pitch\n",
    "    karray.add_rect_element([x_pos, 0, kgrid.z_vec[0][0]], element_width, element_length, rotation)\n",
    "\n",
    "karray.set_array_position(translation, rotation)\n",
    "source = kSource()\n",
    "source.p_mask = karray.get_array_binary_mask(kgrid)\n",
    "%matplotlib inline\n",
    "voxel_plot(np.single(source.p_mask))\n",
    "source.p = karray.get_distributed_source_signal(kgrid, source_sig)\n"
   ]
  },
  {
   "cell_type": "code",
   "execution_count": null,
   "metadata": {},
   "outputs": [],
   "source": [
    "# MEDIUM\n",
    "medium = kWaveMedium(sound_speed=c0, density=rho0)\n"
   ]
  },
  {
   "cell_type": "code",
   "execution_count": null,
   "metadata": {},
   "outputs": [],
   "source": [
    "# SENSOR\n",
    "sensor_mask = np.zeros((Nx, Ny, Nz))\n",
    "sensor_mask[:, Ny // 2, :] = 1\n",
    "sensor = kSensor(sensor_mask, record=['p_max'])"
   ]
  },
  {
   "cell_type": "code",
   "execution_count": null,
   "metadata": {},
   "outputs": [],
   "source": [
    "# SIMULATION\n",
    "simulation_options = SimulationOptions(\n",
    "    pml_auto=True,\n",
    "    pml_inside=False,\n",
    "    save_to_disk=True,\n",
    "    data_cast='single',\n",
    ")\n",
    "\n",
    "execution_options = SimulationExecutionOptions(is_gpu_simulation=True)\n",
    "\n",
    "sensor_data = kspaceFirstOrder3DC(kgrid=kgrid, medium=medium, source=source, sensor=sensor,\n",
    "                                  simulation_options=simulation_options, execution_options=execution_options)\n",
    "\n",
    "p_max = np.reshape(sensor_data['p_max'], (Nx, Nz), order='F')\n"
   ]
  },
  {
   "cell_type": "code",
   "execution_count": null,
   "metadata": {},
   "outputs": [],
   "source": [
    "# VISUALISATION\n",
    "plt.figure()\n",
    "plt.imshow(1e-6 * p_max, extent=[1e3 * kgrid.x_vec[0][0], 1e3 * kgrid.x_vec[-1][0], 1e3 * kgrid.z_vec[0][0],\n",
    "                                  1e3 * kgrid.z_vec[-1][0]], aspect='auto', cmap=get_color_map())\n",
    "plt.xlabel('z-position [mm]')\n",
    "plt.ylabel('x-position [mm]')\n",
    "plt.title('Pressure Field')\n",
    "plt.colorbar(label='[MPa]')\n",
    "plt.show()\n"
   ]
  },
  {
   "cell_type": "markdown",
   "metadata": {},
   "source": []
  }
 ],
 "metadata": {
  "accelerator": "GPU",
  "colab": {
   "gpuType": "T4",
   "provenance": []
  },
  "kernelspec": {
   "display_name": "Python 3",
   "name": "python3"
  },
  "language_info": {
   "codemirror_mode": {
    "name": "ipython",
    "version": 3
   },
   "file_extension": ".py",
   "mimetype": "text/x-python",
   "name": "python",
   "nbconvert_exporter": "python",
   "pygments_lexer": "ipython3"
  }
 },
 "nbformat": 4,
 "nbformat_minor": 0
}
