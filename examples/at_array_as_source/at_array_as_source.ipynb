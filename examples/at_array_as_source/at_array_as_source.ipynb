{
 "cells": [
  {
   "cell_type": "code",
   "execution_count": null,
   "metadata": {},
   "outputs": [],
   "source": [
    "%%capture\n",
    "!pip install k-wave-python "
   ]
  },
  {
   "cell_type": "code",
   "execution_count": null,
   "metadata": {},
   "outputs": [],
   "source": [
    "import matplotlib.pyplot as plt\n",
    "import numpy as np\n",
    "from matplotlib import colors\n",
    "from matplotlib.animation import FuncAnimation\n",
    "\n",
    "from kwave.data import Vector\n",
    "from kwave.kgrid import kWaveGrid\n",
    "from kwave.kmedium import kWaveMedium\n",
    "from kwave.ksensor import kSensor\n",
    "from kwave.ksource import kSource\n",
    "from kwave.kspaceFirstOrder2D import kspace_first_order_2d_gpu\n",
    "from kwave.options.simulation_execution_options import SimulationExecutionOptions\n",
    "from kwave.options.simulation_options import SimulationOptions\n",
    "from kwave.utils.kwave_array import kWaveArray\n",
    "from kwave.utils.colormap import get_color_map\n",
    "from kwave.utils.signals import tone_burst\n"
   ]
  },
  {
   "cell_type": "markdown",
   "metadata": {},
   "source": [
    "\n",
    "# Define kWaveArray"
   ]
  },
  {
   "cell_type": "code",
   "execution_count": null,
   "metadata": {},
   "outputs": [],
   "source": [
    "# create empty array\n",
    "karray = kWaveArray()\n",
    "\n",
    "# define arc properties\n",
    "radius = 50e-3  # [m]\n",
    "diameter = 30e-3  # [m]\n",
    "focus_pos = [-20e-3, 0]  # [m]\n",
    "\n",
    "# add arc-shaped element\n",
    "elem_pos = [10e-3, -40e-3]  # [m]\n",
    "karray.add_arc_element(elem_pos, radius, diameter, focus_pos)\n",
    "\n",
    "# add arc-shaped element\n",
    "elem_pos = [20e-3, 0]  # [m]\n",
    "karray.add_arc_element(elem_pos, radius, diameter, focus_pos)\n",
    "\n",
    "# add arc-shaped element\n",
    "elem_pos = [10e-3, 40e-3]  # [m]\n",
    "karray.add_arc_element(elem_pos, radius, diameter, focus_pos)\n",
    "\n",
    "# move the array down 10 mm, and rotate by 10 degrees (this moves all the\n",
    "# elements together)\n",
    "karray.set_array_position([10e-3, 0], 10)\n"
   ]
  },
  {
   "cell_type": "markdown",
   "metadata": {},
   "source": [
    "# Define grid properties"
   ]
  },
  {
   "cell_type": "code",
   "execution_count": null,
   "metadata": {},
   "outputs": [],
   "source": [
    "%%capture\n",
    "# grid properties\n",
    "Nx = 256\n",
    "dx = 0.5e-3\n",
    "Ny = 256\n",
    "dy = 0.5e-3\n",
    "kgrid = kWaveGrid(Vector([Nx, Ny]), Vector([dx, dy]))\n",
    "\n",
    "# medium properties\n",
    "medium = kWaveMedium(sound_speed=1500)\n",
    "\n",
    "# time array\n",
    "kgrid.makeTime(medium.sound_speed)"
   ]
  },
  {
   "cell_type": "markdown",
   "metadata": {},
   "source": [
    "# Simulation"
   ]
  },
  {
   "cell_type": "code",
   "execution_count": null,
   "metadata": {},
   "outputs": [],
   "source": [
    "# assign binary mask from karray to the source mask\n",
    "source_p_mask = karray.get_array_binary_mask(kgrid)\n",
    "\n",
    "# set source signals, one for each physical array element\n",
    "f1 = 100e3\n",
    "f2 = 200e3\n",
    "f3 = 500e3\n",
    "sig1 = tone_burst(1 / kgrid.dt, f1, 3).squeeze()\n",
    "sig2 = tone_burst(1 / kgrid.dt, f2, 5).squeeze()\n",
    "sig3 = tone_burst(1 / kgrid.dt, f3, 5).squeeze()\n",
    "\n",
    "# combine source signals into one array\n",
    "source_signal = np.zeros((3, max(len(sig1), len(sig2))))\n",
    "source_signal[0, :len(sig1)] = sig1\n",
    "source_signal[1, :len(sig2)] = sig2\n",
    "source_signal[2, :len(sig3)] = sig3\n",
    "\n",
    "# get distributed source signals (this automatically returns a weighted\n",
    "# source signal for each grid point that forms part of the source)\n",
    "source_p = karray.get_distributed_source_signal(kgrid, source_signal)\n",
    "\n",
    "simulation_options = SimulationOptions(\n",
    "    save_to_disk=True,\n",
    "    data_cast='single',\n",
    ")\n",
    "execution_options = SimulationExecutionOptions(is_gpu_simulation=True)\n",
    "# run k-Wave simulation (no sensor is used for this example)\n",
    "# TODO: I would say proper behaviour would be to return the entire pressure field if sensor is None\n",
    "sensor = kSensor()\n",
    "sensor.mask = np.ones((Nx, Ny), dtype=bool)\n",
    "\n",
    "source = kSource()\n",
    "source.p_mask = source_p_mask\n",
    "source.p = source_p\n",
    "\n",
    "p = kspace_first_order_2d_gpu(kgrid, source, sensor, medium, simulation_options, execution_options)\n",
    "\n",
    "p_field = np.reshape(p['p'], (kgrid.Nt, Nx, Ny))\n",
    "p_field = np.transpose(p_field, (0, 2, 1))"
   ]
  },
  {
   "cell_type": "markdown",
   "metadata": {},
   "source": [
    "# Visualization"
   ]
  },
  {
   "cell_type": "code",
   "execution_count": null,
   "metadata": {},
   "outputs": [],
   "source": [
    "from matplotlib import rc\n",
    "rc('animation', html='jshtml', embed_limit=10**3)\n",
    "%matplotlib notebook\n",
    "\n",
    "# Normalize frames based on the maximum value over all frames\n",
    "max_value = np.max(p_field)\n",
    "normalized_frames = p_field / max_value\n",
    "\n",
    "cmap = get_color_map()\n",
    "\n",
    "# Create a figure and axis\n",
    "fig, ax = plt.subplots()\n",
    "\n",
    "# Create an empty image with the first normalized frame\n",
    "image = ax.imshow(normalized_frames[0], cmap=cmap, norm=colors.Normalize(vmin=0, vmax=1))\n",
    "\n",
    "# Function to update the image for each frame\n",
    "def update(frame):\n",
    "    image.set_data(normalized_frames[frame])\n",
    "    ax.set_title(f'Frame {frame + 1}/{kgrid.Nt}')\n",
    "    return [image]\n"
   ]
  },
  {
   "cell_type": "code",
   "execution_count": null,
   "metadata": {},
   "outputs": [],
   "source": [
    "# Create the animation\n",
    "ani = FuncAnimation(fig, update, frames=kgrid.Nt, interval=5, blit=False, repeat=True)"
   ]
  },
  {
   "cell_type": "code",
   "execution_count": null,
   "metadata": {},
   "outputs": [],
   "source": [
    "ani  # This takes time"
   ]
  },
  {
   "cell_type": "code",
   "execution_count": null,
   "metadata": {},
   "outputs": [],
   "source": [
    "# create pml mask (default size in 2D is 20 grid points)\n",
    "%matplotlib inline\n",
    "pml_size = 20\n",
    "pml_mask = np.zeros((Nx, Ny), dtype=bool)\n",
    "pml_mask[:pml_size, :] = 1\n",
    "pml_mask[:, :pml_size] = 1\n",
    "pml_mask[-pml_size:, :] = 1\n",
    "pml_mask[:, -pml_size:] = 1\n",
    "\n",
    "# plot source and pml masks\n",
    "plt.figure()\n",
    "plt.imshow(np.logical_not(np.squeeze(source.p_mask | pml_mask)), aspect='auto', cmap='gray')\n",
    "plt.xlabel('x-position [m]')\n",
    "plt.ylabel('y-position [m]')\n",
    "plt.title('Source and PML Masks')"
   ]
  }
 ],
 "metadata": {
  "accelerator": "GPU",
  "colab": {
   "gpuType": "T4",
   "provenance": []
  },
  "kernelspec": {
   "display_name": "Python 3",
   "name": "python3"
  },
  "language_info": {
   "codemirror_mode": {
    "name": "ipython",
    "version": 3
   },
   "file_extension": ".py",
   "mimetype": "text/x-python",
   "name": "python",
   "nbconvert_exporter": "python",
   "pygments_lexer": "ipython3"
  }
 },
 "nbformat": 4,
 "nbformat_minor": 0
}
