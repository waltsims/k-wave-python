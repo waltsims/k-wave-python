{
 "cells": [
  {
   "cell_type": "markdown",
   "id": "8b20eee6",
   "metadata": {},
   "source": [
    "<a href=\"https://colab.research.google.com/github/djps/k-wave-python/blob/modelling_in_3D/examples/at_focused_annular_array_3D/at_focused_annular_array.3D.ipynb\" target=\"_parent\"><img src=\"https://colab.research.google.com/assets/colab-badge.svg\" alt=\"Open In Colab\"/></a>"
   ]
  },
  {
   "cell_type": "code",
   "execution_count": null,
   "id": "5b6f8e7a-5c7d-4340-8ed4-a04099307131",
   "metadata": {},
   "outputs": [],
   "source": [
    "!pip install git+https://github.com/waltsims/k-wave-python"
   ]
  },
  {
   "cell_type": "markdown",
   "id": "db1bda7e-a820-4eb4-abf9-96ab041675af",
   "metadata": {},
   "source": [
    "## Modelling A Focused Annular Array Transducer In 3D Example\n",
    "\n",
    "This example models a focused annular array transducer in 3D. The on-axis pressure is compared with the exact solution calculated using `focused_annulus_oneil`.\n",
    "\n",
    "First, define the settings, import the libraries and functions needed"
   ]
  },
  {
   "cell_type": "code",
   "execution_count": null,
   "id": "32e28e46-df00-4a08-996f-5683470c0e2b",
   "metadata": {},
   "outputs": [],
   "source": [
    "%matplotlib inline\n",
    "\n",
    "import numpy as np\n",
    "import matplotlib.pyplot as plt\n",
    "from copy import deepcopy\n",
    "\n",
    "from kwave.data import Vector\n",
    "from kwave.kgrid import kWaveGrid\n",
    "from kwave.kmedium import kWaveMedium\n",
    "from kwave.ksensor import kSensor\n",
    "from kwave.ksource import kSource\n",
    "from kwave.utils.filters import extract_amp_phase\n",
    "from kwave.utils.mapgen import focused_annulus_oneil\n",
    "from kwave.utils.math import round_even\n",
    "from kwave.utils.kwave_array import kWaveArray\n",
    "from kwave.utils.signals import create_cw_signals\n",
    "\n",
    "from kwave.kspaceFirstOrder3D import kspaceFirstOrder3D\n",
    "\n",
    "from kwave.options.simulation_options import SimulationOptions\n",
    "from kwave.options.simulation_execution_options import SimulationExecutionOptions"
   ]
  },
  {
   "cell_type": "markdown",
   "id": "a28dbad5-6ba4-42ef-9e55-715d2383df68",
   "metadata": {},
   "source": [
    "The parameters of the system are defined below."
   ]
  },
  {
   "cell_type": "code",
   "execution_count": null,
   "id": "67150133-3e02-4fd9-a36d-27a9550fe84f",
   "metadata": {},
   "outputs": [],
   "source": [
    "# medium parameters\n",
    "c0: float            = 1500.0  # sound speed [m/s]\n",
    "rho0: float          = 1000.0  # density [kg/m^3]\n",
    "\n",
    "# source parameters\n",
    "source_f0            = 1.0e6                                    # source frequency [Hz]\n",
    "source_roc           = 30e-3                                    # bowl radius of curvature [m]\n",
    "source_amp           = np.array([0.5e6, 1e6, 0.75e6])           # source pressure [Pa]\n",
    "source_phase         = np.deg2rad(np.array([0.0, 10.0, 20.0]))  # source phase [radians]\n",
    "\n",
    "# aperture diameters of the elements given an inner, outer pairs [m]\n",
    "diameters       = np.array([[0.0, 5.0], [10.0, 15.0], [20.0, 25.0]]) * 1e-3\n",
    "diameters       = diameters.tolist()\n",
    "\n",
    "# grid parameters\n",
    "axial_size: float    = 40.0e-3  # total grid size in the axial dimension [m]\n",
    "lateral_size: float  = 45.0e-3  # total grid size in the lateral dimension [m]\n",
    "\n",
    "# computational parameters\n",
    "ppw: int             = 3      # number of points per wavelength\n",
    "t_end: float         = 40e-6  # total compute time [s] (this must be long enough to reach steady state)\n",
    "record_periods: int  = 1      # number of periods to record\n",
    "cfl: float           = 0.5    # CFL number\n",
    "source_x_offset: int = 20     # grid points to offset the source\n",
    "bli_tolerance: float = 0.01   # tolerance for truncation of the off-grid source points\n",
    "upsampling_rate: int = 10     # density of integration points relative to grid\n",
    "verbose_level: int   = 0      # verbosity of k-wave executable"
   ]
  },
  {
   "cell_type": "markdown",
   "id": "26e9fc37-096f-4e2d-af2b-32de0e085cd6",
   "metadata": {},
   "source": [
    "## Grid\n",
    "\n",
    "Construct the grid via the `kgrid` class"
   ]
  },
  {
   "cell_type": "code",
   "execution_count": null,
   "id": "dae95498-e846-4cb1-87ac-dcc684e952bc",
   "metadata": {},
   "outputs": [],
   "source": [
    "# calculate the grid spacing based on the PPW and F0\n",
    "dx: float = c0 / (ppw * source_f0)   # [m]\n",
    "\n",
    "# compute the size of the grid\n",
    "Nx: int = round_even(axial_size / dx) + source_x_offset\n",
    "Ny: int = round_even(lateral_size / dx)\n",
    "Nz: int = Ny\n",
    "\n",
    "grid_size_points = Vector([Nx, Ny, Nz])\n",
    "grid_spacing_meters = Vector([dx, dx, dx])\n",
    "\n",
    "# create the k-space grid\n",
    "kgrid = kWaveGrid(grid_size_points, grid_spacing_meters)\n",
    "\n",
    "# compute points per period\n",
    "ppp: int = round(ppw / cfl)\n",
    "\n",
    "# compute corresponding time spacing\n",
    "dt: float = 1.0 / (ppp * source_f0)\n",
    "\n",
    "# create the time array using an integer number of points per period\n",
    "Nt: int = int(np.round(t_end / dt))\n",
    "kgrid.setTime(Nt, dt)\n",
    "\n",
    "# calculate the actual CFL and PPW\n",
    "print('points-per-period: ' + str(c0 / (dx * source_f0)) + ' and CFL number : ' + str(c0 * dt / dx))"
   ]
  },
  {
   "cell_type": "markdown",
   "id": "b39b121c-cc4d-45ee-9d0a-3cee00c690f5",
   "metadata": {},
   "source": [
    "## Source\n",
    "\n",
    "Define the source, using the `kWaveArray` class and the `add_bowl_element` method along with a continuous wave signal."
   ]
  },
  {
   "cell_type": "code",
   "execution_count": null,
   "id": "d8474039-e3b7-4f09-b76d-6bfaf536bc21",
   "metadata": {},
   "outputs": [],
   "source": [
    "source = kSource()\n",
    "\n",
    "# create time varying source\n",
    "source_signal = create_cw_signals(np.squeeze(kgrid.t_array), source_f0, source_amp, source_phase)\n",
    "\n",
    "# create empty kWaveArray\n",
    "karray = kWaveArray(bli_tolerance=bli_tolerance,\n",
    "                    upsampling_rate=upsampling_rate,\n",
    "                    single_precision=True)\n",
    "\n",
    "# set bowl position and orientation\n",
    "bowl_pos = [kgrid.x_vec[0].item() + source_x_offset * kgrid.dx, 0, 0]\n",
    "focus_pos = [kgrid.x_vec[-1].item(), 0, 0]\n",
    "\n",
    "# add bowl shaped element to array\n",
    "karray.add_annular_array(bowl_pos, source_roc, diameters, focus_pos)\n",
    "\n",
    "# assign binary mask\n",
    "source.p_mask = karray.get_array_binary_mask(kgrid)\n",
    "\n",
    "# assign source signals\n",
    "source.p = karray.get_distributed_source_signal(kgrid, source_signal)"
   ]
  },
  {
   "cell_type": "markdown",
   "id": "d9e68ba8-f59f-441d-a86f-bd649571a752",
   "metadata": {},
   "source": [
    "## Medium\n",
    "\n",
    "The medium is water. Neither nonlinearity nor attenuation are considered."
   ]
  },
  {
   "cell_type": "code",
   "execution_count": null,
   "id": "f402c35a-43db-49cc-8947-afd1842f5c63",
   "metadata": {},
   "outputs": [],
   "source": [
    "# assign medium properties\n",
    "medium = kWaveMedium(sound_speed=c0, density=rho0)"
   ]
  },
  {
   "cell_type": "markdown",
   "id": "acb68ad1-1f98-4dd5-b000-301386aab42e",
   "metadata": {},
   "source": [
    "## Sensor\n",
    "\n",
    "The sensor class defines what acoustic information is recorded."
   ]
  },
  {
   "cell_type": "code",
   "execution_count": null,
   "id": "882f547c-9b94-4da5-8157-3157b983bdf3",
   "metadata": {},
   "outputs": [],
   "source": [
    "sensor = kSensor()\n",
    "\n",
    "# set sensor mask to record central plane, not including the source point\n",
    "sensor.mask = np.zeros((Nx, Ny, Nz), dtype=bool)\n",
    "sensor.mask[(source_x_offset + 1):, :, Nz // 2] = True\n",
    "\n",
    "# record the pressure\n",
    "sensor.record = ['p']\n",
    "\n",
    "# record only the final few periods when the field is in steady state\n",
    "sensor.record_start_index = kgrid.Nt - (record_periods * ppp) + 1"
   ]
  },
  {
   "cell_type": "markdown",
   "id": "7df50ac4-3e8e-4cdf-a275-90b54c7e5bea",
   "metadata": {},
   "source": [
    "## Simulation"
   ]
  },
  {
   "cell_type": "code",
   "execution_count": null,
   "id": "66826f6c-b520-463b-a51f-aa4c15ed72a5",
   "metadata": {},
   "outputs": [],
   "source": [
    "simulation_options = SimulationOptions(pml_auto=True,\n",
    "                                       data_recast=True,\n",
    "                                       save_to_disk=True,\n",
    "                                       save_to_disk_exit=False,\n",
    "                                       pml_inside=False)\n",
    "\n",
    "execution_options = SimulationExecutionOptions(is_gpu_simulation=True,\n",
    "                                               delete_data=False,\n",
    "                                               verbose_level=0)\n",
    "\n",
    "sensor_data = kspaceFirstOrder3D(medium=deepcopy(medium),\n",
    "                                 kgrid=deepcopy(kgrid),\n",
    "                                 source=deepcopy(source),\n",
    "                                 sensor=deepcopy(sensor),\n",
    "                                 simulation_options=simulation_options,\n",
    "                                 execution_options=execution_options)"
   ]
  },
  {
   "cell_type": "markdown",
   "id": "77173d6d-bacc-46ee-be2b-e085d4985401",
   "metadata": {},
   "source": [
    "## Post-processing\n",
    "\n",
    "Extract amplitude from the sensor data, using the Fourier transform. The data can be reshaped to match the spatial extents of the domain. The on-axis pressure amplitudes found and axes for plotting defined."
   ]
  },
  {
   "cell_type": "code",
   "execution_count": null,
   "id": "fbd76b31-58b4-4310-bdc6-0b7c6e7818e9",
   "metadata": {},
   "outputs": [],
   "source": [
    "# extract amplitude from the sensor data\n",
    "amp, _, _  = extract_amp_phase(sensor_data['p'].T, 1.0 / kgrid.dt, source_f0, dim=1, fft_padding=1, window='Rectangular')\n",
    "\n",
    "# reshape data\n",
    "amp = np.reshape(amp, (Nx - (source_x_offset + 1), Ny), order='F')\n",
    "\n",
    "# extract pressure on axis\n",
    "amp_on_axis = amp[:, Ny // 2]\n",
    "\n",
    "# define axis vectors for plotting\n",
    "x_vec = np.squeeze(kgrid.x_vec[(source_x_offset + 1):, :] - kgrid.x_vec[source_x_offset])\n",
    "y_vec = kgrid.y_vec"
   ]
  },
  {
   "cell_type": "markdown",
   "id": "11ec4eed-1349-4ea3-a2e9-61ede65f3702",
   "metadata": {},
   "source": [
    "## Analytical Solution\n",
    "\n",
    "An analytical expression cam be found in Pierce<a name=\"cite_ref-1\"></a>[<sup>[1]</sup>](#cite_note-1). Given a transdcuer of radius $a$, wavenumber $k= 2 \\pi f / c$, where $f$ is the frequency, speed of sound $c$, and a unit normal vector to transducer surface, $\\hat{v}_n$, the on-axis pressure is given by\n",
    "\n",
    "$$\n",
    "p_{\\mathrm{ref}}(z) = −2 \\, i \\, \\rho \\, c \\, \\hat{v}_n \\, e^{i k \\left( z + \\sqrt{z^2 + a^2} \\right) \\big/ 2} \\sin \\left( \\dfrac{k}{2} \\left( \\sqrt{z^2 + a^2} − z \\right) \\right).\n",
    "$$\n",
    "\n",
    "<a name=\"cite_note-1\"></a>[<sup>[1]</sup>](#cite_ref-1) A. D. Pierce, _\"Acoustics: An Introduction to its Physical Principles and Applications\"_ Springer (2019)."
   ]
  },
  {
   "cell_type": "code",
   "execution_count": null,
   "id": "d5691bd3-295d-49c1-b815-13f33bc9b952",
   "metadata": {},
   "outputs": [],
   "source": [
    "p_axial = focused_annulus_oneil(source_roc, np.asarray(diameters).T, source_amp / (c0 * rho0), source_phase, source_f0, c0, rho0, np.squeeze(x_vec))"
   ]
  },
  {
   "cell_type": "markdown",
   "id": "373af282-a91a-42c2-82dd-7678de72b1fd",
   "metadata": {},
   "source": [
    "## Visualisation\n",
    "\n",
    "First plot the pressure along the focal axis of the piston"
   ]
  },
  {
   "cell_type": "code",
   "execution_count": null,
   "id": "e38cbfea-115d-4196-b3cc-2585a56e861f",
   "metadata": {},
   "outputs": [],
   "source": [
    "fig1, ax1 = plt.subplots(1, 1)\n",
    "ax1.plot(1e3 * x_vec, 1e-6 * p_axial, 'k-', label='Analytical')\n",
    "ax1.plot(1e3 * x_vec, 1e-6 * amp_on_axis, 'b.', label='k-Wave')\n",
    "ax1.legend()\n",
    "ax1.set(xlabel='Axial Position [mm]',\n",
    "        ylabel='Pressure [MPa]',\n",
    "        title='Axial Pressure')\n",
    "ax1.set_xlim(0.0, 1e3 * axial_size)\n",
    "ax1.set_ylim(0.0, 6)\n",
    "ax1.grid()"
   ]
  },
  {
   "cell_type": "markdown",
   "id": "03150718-35bc-4796-990c-7469b6177159",
   "metadata": {},
   "source": [
    "Next plot the source mask (pml is outside the grid in this example). This means getting the grid weights first"
   ]
  },
  {
   "cell_type": "code",
   "execution_count": null,
   "id": "f04f9d92-da57-4627-969d-3c8d96f4c396",
   "metadata": {},
   "outputs": [],
   "source": [
    "# get grid weights\n",
    "grid_weights = karray.get_array_grid_weights(kgrid)\n",
    "\n",
    "fig2, (ax2a, ax2b) = plt.subplots(1, 2)\n",
    "ax2a.pcolormesh(1e3 * np.squeeze(kgrid.y_vec),\n",
    "                1e3 * np.squeeze(kgrid.x_vec),\n",
    "                np.flip(source.p_mask[:, :, int(np.ceil(Nz / 2))], axis=0),\n",
    "                shading='nearest')\n",
    "ax2a.set(xlabel='y [mm]',\n",
    "         ylabel='x [mm]',\n",
    "         title='Source Mask')\n",
    "ax2b.pcolormesh(1e3 * np.squeeze(kgrid.y_vec),\n",
    "                1e3 * np.squeeze(kgrid.x_vec),\n",
    "                np.flip(grid_weights[:, :, int(np.ceil(Nz / 2))], axis=0),\n",
    "                shading='nearest')\n",
    "ax2b.set_xlabel('y [mm]')\n",
    "ax2b.set_ylabel('x [mm]')\n",
    "_ = ax2b.set_title('Off-Grid Source Weights')\n",
    "plt.tight_layout(pad=1.2)"
   ]
  },
  {
   "cell_type": "markdown",
   "id": "d51ef784-06c3-4c5f-a478-e6864aa12041",
   "metadata": {},
   "source": [
    "Finally, plot the pressure field"
   ]
  },
  {
   "cell_type": "code",
   "execution_count": null,
   "id": "109c084a-29fb-4180-88e7-e37ecf3b3927",
   "metadata": {},
   "outputs": [],
   "source": [
    "fig3, ax3 = plt.subplots(1, 1)\n",
    "p3 = ax3.pcolormesh(1e3 * np.squeeze(y_vec),\n",
    "                    1e3 * np.squeeze(x_vec),\n",
    "                    np.flip(amp, axis=1) / 1e6,\n",
    "                    shading='gouraud')\n",
    "ax3.set(xlabel='Lateral Position [mm]',\n",
    "        ylabel='Axial Position [mm]',\n",
    "        title='Pressure Field')\n",
    "ax3.set_ylim(1e3 * x_vec[-1],  1e3 * x_vec[0])\n",
    "cbar3 = fig3.colorbar(p3, ax=ax3)\n",
    "_ = cbar3.ax.set_title('[MPa]', fontsize='small')"
   ]
  }
 ],
 "metadata": {
  "accelerator": "GPU",
  "colab": {
   "gpuType": "T4",
   "include_colab_link": true,
   "provenance": []
  },
  "kernelspec": {
   "display_name": "Python 3",
   "name": "python3"
  },
  "language_info": {
   "codemirror_mode": {
    "name": "ipython",
    "version": 3
   },
   "file_extension": ".py",
   "mimetype": "text/x-python",
   "name": "python",
   "nbconvert_exporter": "python",
   "pygments_lexer": "ipython3"
  }
 },
 "nbformat": 4,
 "nbformat_minor": 5
}
