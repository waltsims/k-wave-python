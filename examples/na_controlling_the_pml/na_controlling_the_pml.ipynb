{
 "cells": [
  {
   "cell_type": "markdown",
   "metadata": {},
   "source": [
    "# Using An Ultrasound Transducer As A Sensor Example\n",
    "\n",
    "This example shows how an ultrasound transducer can be used as a detector by substituting a transducer object for the normal sensor input structure. It builds on the Defining An Ultrasound Transducer and Simulating Ultrasound Beam Patterns examples.\n"
   ]
  },
  {
   "cell_type": "markdown",
   "metadata": {},
   "source": [
    "### Notes\n",
    "\n",
    "The example is based on the original kWave example in Matlab. A few parts were adapted to make it compatible with `k-wave-python`."
   ]
  },
  {
   "cell_type": "code",
   "execution_count": null,
   "metadata": {},
   "outputs": [],
   "source": [
    "%%capture\n",
    "!pip install k-wave-python"
   ]
  },
  {
   "cell_type": "code",
   "execution_count": null,
   "metadata": {},
   "outputs": [],
   "source": [
    "import os\n",
    "from copy import deepcopy\n",
    "from typing import Dict\n",
    "\n",
    "import numpy as np\n",
    "import matplotlib.pyplot as plt\n",
    "\n",
    "from kwave.data import Vector\n",
    "from kwave.kgrid import kWaveGrid\n",
    "from kwave.kmedium import kWaveMedium\n",
    "from kwave.ksensor import kSensor\n",
    "from kwave.ksource import kSource\n",
    "from kwave.kspaceFirstOrder2D import kspaceFirstOrder2DC\n",
    "from kwave.options.simulation_execution_options import SimulationExecutionOptions\n",
    "from kwave.options.simulation_options import SimulationOptions\n",
    "from kwave.utils.mapgen import make_disc, make_cart_circle\n",
    "from kwave.utils.signals import reorder_binary_sensor_data\n",
    "from kwave.utils.conversion import cart2grid\n",
    "from kwave.utils.colormap import get_color_map"
   ]
  },
  {
   "cell_type": "code",
   "execution_count": null,
   "metadata": {},
   "outputs": [],
   "source": [
    "# create the computational grid and propagation medium\n",
    "grid_size = Vector([128, 128])  # [grid points]\n",
    "grid_spacing = Vector([0.1e-3, 0.1e-3])  # [m]\n",
    "kgrid = kWaveGrid(grid_size, grid_spacing)\n",
    "\n",
    "medium = kWaveMedium(sound_speed=1500)"
   ]
  },
  {
   "cell_type": "code",
   "execution_count": null,
   "metadata": {},
   "outputs": [],
   "source": [
    "# create initial pressure distribution using make_disc\n",
    "disc_magnitude = 5 # [Pa]\n",
    "disc_pos = Vector([50, 50])  # [grid points]\n",
    "disc_radius = 8    # [grid points]\n",
    "disc_1 = disc_magnitude * make_disc(grid_size, disc_pos, disc_radius)\n",
    "\n",
    "disc_magnitude = 3 # [Pa]\n",
    "disc_pos = Vector([80, 60])  # [grid points]\n",
    "disc_radius = 5    # [grid points]\n",
    "disc_2 = disc_magnitude * make_disc(grid_size, disc_pos, disc_radius)\n",
    "\n",
    "source = kSource()\n",
    "source.p0 = disc_1 + disc_2"
   ]
  },
  {
   "cell_type": "code",
   "execution_count": null,
   "metadata": {},
   "outputs": [],
   "source": [
    "# define a centered circular sensor\n",
    "sensor_radius = 4e-3   # [m]\n",
    "num_sensor_points = 50\n",
    "sensor_mask = make_cart_circle(sensor_radius, num_sensor_points)\n",
    "sensor = kSensor(sensor_mask)"
   ]
  },
  {
   "cell_type": "code",
   "execution_count": null,
   "metadata": {},
   "outputs": [],
   "source": [
    "# Define a function to run simulation with given options\n",
    "def run_simulation_with_options(**simulation_opts) -> Dict[str, np.array]:\n",
    "    simulation_options = SimulationOptions(\n",
    "        save_to_disk=True,\n",
    "        **simulation_opts\n",
    "    )\n",
    "    execution_options = SimulationExecutionOptions(is_gpu_simulation=False)\n",
    "    \n",
    "    sensor_data = kspaceFirstOrder2DC(\n",
    "        medium=medium,\n",
    "        kgrid=kgrid,\n",
    "        source=deepcopy(source),\n",
    "        sensor=deepcopy(sensor),\n",
    "        simulation_options=simulation_options,\n",
    "        execution_options=execution_options\n",
    "    )\n",
    "    return sensor_data"
   ]
  },
  {
   "cell_type": "code",
   "execution_count": null,
   "metadata": {},
   "outputs": [],
   "source": [
    "# Update the example ID below to change the simulation conditions\n",
    "example_idx = 1\n",
    "\n",
    "if example_idx == 1:\n",
    "    options = {'pml_alpha': 0}\n",
    "elif example_idx == 2:\n",
    "    options = {'pml_alpha': 1e6}\n",
    "elif example_idx == 3:\n",
    "    options = {'pml_size': 2}\n",
    "elif example_idx == 4:\n",
    "    options = {'pml_inside': False}\n",
    "else:\n",
    "    raise NotImplementedError()\n",
    "\n",
    "sensor_data = run_simulation_with_options(**options)"
   ]
  },
  {
   "cell_type": "code",
   "execution_count": null,
   "metadata": {},
   "outputs": [],
   "source": [
    "\n",
    "_, _, reorder_index = cart2grid(kgrid, sensor.mask)\n",
    "sensor_data_point = reorder_binary_sensor_data(sensor_data['p'].T, reorder_index=reorder_index)"
   ]
  },
  {
   "cell_type": "code",
   "execution_count": null,
   "metadata": {},
   "outputs": [],
   "source": [
    "cmap = get_color_map()\n",
    "plt.imshow(sensor_data_point, vmin=-1, vmax=1, aspect='auto', cmap=cmap)\n",
    "plt.ylabel('Sensor Position')\n",
    "plt.xlabel('Time Step')\n",
    "plt.colorbar()\n",
    "plt.show()"
   ]
  },
  {
   "cell_type": "markdown",
   "metadata": {},
   "source": [
    "### Comparing against Matlab implementation\n",
    "\n",
    "Seems like above example runs successfully but ... How do we know if our results match the Matlab implementation? A simple yet effective strategy is to run Matlab script, record outputs, load them in Python and compare the results. Huh, sounds involved and it is indeed a bit involved. However, we did it and you can do this in two steps:\n",
    "1. Open Matlab and run `modified_matlab_example.m` script in this folder.\n",
    "2. Execute the cell below.\n",
    "\n",
    "Step #1 will run the Matlab example and record values. Step #2 will load values and compare `k-wave-python` outputs against Matlab implementation.\n",
    "\n",
    "You may be wondering at this point, why we do not run `example_na_controlling_the_pml.m` (original Matlab script) instead of the script from this folder. There are two reasons - (1) original example does not record output values in a file and (2) it runs one simulation case at a time. Modified example records output values (recorded pressure and visualized image) and runs all four simulation cases. In case you want to run the original example by adding output recording logic and running all four simulation cases individually, please feel free to do so. If everything is correct, you will get the same results as the `modified_matlab_example.m`."
   ]
  },
  {
   "cell_type": "code",
   "execution_count": null,
   "metadata": {},
   "outputs": [],
   "source": [
    "from scipy.io import loadmat\n",
    "\n",
    "matlab_output_path = f'example_{example_idx}.mat'\n",
    "\n",
    "if not os.path.exists(matlab_output_path):\n",
    "    print(\"Data recorded from Matlab script does not exist! Did you run the `modified_matlab_example.m` in Matlab?\")\n",
    "else:\n",
    "    recorded_data = loadmat(matlab_output_path, simplify_cells=True)\n",
    "    assert np.allclose(recorded_data['sensor_data'].T, sensor_data['p'])"
   ]
  }
 ],
 "metadata": {
  "kernelspec": {
   "display_name": "Python 3 (ipykernel)",
   "language": "python",
   "name": "python3"
  },
  "language_info": {
   "codemirror_mode": {
    "name": "ipython",
    "version": 3
   },
   "file_extension": ".py",
   "mimetype": "text/x-python",
   "name": "python",
   "nbconvert_exporter": "python",
   "pygments_lexer": "ipython3"
  }
 },
 "nbformat": 4,
 "nbformat_minor": 4
}
