{
 "cells": [
  {
   "cell_type": "code",
   "execution_count": null,
   "metadata": {},
   "outputs": [],
   "source": [
    "%%capture\n",
    "!pip install k-wave-python"
   ]
  },
  {
   "cell_type": "code",
   "execution_count": null,
   "metadata": {},
   "outputs": [],
   "source": [
    "import matplotlib.pyplot as plt\n",
    "import matplotlib as mpl\n",
    "import numpy as np\n",
    "\n",
    "from kwave.data import Vector\n",
    "from kwave.kgrid import kWaveGrid\n",
    "from kwave.kmedium import kWaveMedium\n",
    "from kwave.ksensor import kSensor\n",
    "from kwave.ksource import kSource\n",
    "from kwave.kspaceFirstOrder2D import kspaceFirstOrder2D\n",
    "from kwave.options.simulation_execution_options import SimulationExecutionOptions\n",
    "from kwave.options.simulation_options import SimulationOptions\n",
    "from kwave.utils.conversion import cart2grid\n",
    "from kwave.utils.kwave_array import kWaveArray\n",
    "from kwave.utils.mapgen import make_cart_circle, make_disc\n",
    "from kwave.utils.colormap import get_color_map\n",
    "from kwave.utils.signals import reorder_binary_sensor_data"
   ]
  },
  {
   "cell_type": "code",
   "execution_count": null,
   "metadata": {},
   "outputs": [],
   "source": [
    "# define arc properties\n",
    "radius = 100e-3  # [m]\n",
    "diameter = 8e-3  # [m]\n",
    "ring_radius = 50e-3  # [m]\n",
    "num_elements = 20\n",
    "\n",
    "# orient all elements towards the center of the grid\n",
    "focus_pos = Vector([0, 0])  # [m]\n",
    "\n",
    "element_pos = make_cart_circle(ring_radius, num_elements, focus_pos)\n",
    "\n",
    "# create empty array\n",
    "karray = kWaveArray()\n",
    "\n",
    "for idx in range(num_elements):\n",
    "    karray.add_arc_element(element_pos[:, idx], radius, diameter, focus_pos)"
   ]
  },
  {
   "cell_type": "code",
   "execution_count": null,
   "metadata": {},
   "outputs": [],
   "source": [
    "%%capture\n",
    "# medium properties\n",
    "medium = kWaveMedium(sound_speed=1500)\n",
    "\n",
    "# grid properties\n",
    "N = Vector([256, 256])\n",
    "d = Vector([0.5e-3, 0.5e-3])\n",
    "kgrid = kWaveGrid(N, d)\n",
    "# time array\n",
    "kgrid.makeTime(medium.sound_speed)"
   ]
  },
  {
   "cell_type": "code",
   "execution_count": null,
   "metadata": {},
   "outputs": [],
   "source": [
    "source = kSource()\n",
    "x_offset = 20  # [pixels]\n",
    "# make a small disc in the top left of the domain\n",
    "source.p0 = make_disc(N, Vector([N.x / 4 + x_offset, N.y / 4]), 4)\n",
    "source.p0[99:119, 59:199] = 1\n",
    "logical_p0 = source.p0.astype(bool)\n",
    "sensor = kSensor()\n",
    "sensor.mask = element_pos"
   ]
  },
  {
   "cell_type": "code",
   "execution_count": null,
   "metadata": {},
   "outputs": [],
   "source": [
    "simulation_options = SimulationOptions(\n",
    "    save_to_disk=True,\n",
    "    data_cast='single',\n",
    ")\n",
    "\n",
    "execution_options = SimulationExecutionOptions(is_gpu_simulation=True)\n",
    "output = kspaceFirstOrder2D(kgrid, source, sensor, medium, simulation_options, execution_options)\n",
    "\n",
    "# Here we reorder the sensor data returned by k-Wave to match the order of the elements in the array\n",
    "_, _, reorder_index = cart2grid(kgrid, element_pos)\n",
    "sensor_data_point = reorder_binary_sensor_data(output['p'].T, reorder_index=reorder_index)\n",
    "\n",
    "# assign binary mask from karray to the source mask\n",
    "sensor.mask = karray.get_array_binary_mask(kgrid)\n",
    "\n",
    "output = kspaceFirstOrder2D(kgrid, source, sensor, medium, simulation_options, execution_options)\n",
    "sensor_data = output['p'].T\n",
    "combined_sensor_data = karray.combine_sensor_data(kgrid, sensor_data)\n",
    "\n",
    "\n",
    "# create pml mask (re-use default size of 20 grid points from simulation_options)\n",
    "pml_size = simulation_options.pml_x_size  # 20 [grid_points]\n",
    "pml_mask = np.zeros((N.x, N.y), dtype=bool)\n",
    "pml_mask[:pml_size, :] = 1\n",
    "pml_mask[:, :pml_size] = 1\n",
    "pml_mask[-pml_size:, :] = 1\n",
    "pml_mask[:, -pml_size:] = 1"
   ]
  },
  {
   "cell_type": "markdown",
   "metadata": {},
   "source": [
    "# Visualization"
   ]
  },
  {
   "cell_type": "code",
   "execution_count": null,
   "metadata": {},
   "outputs": [],
   "source": [
    "%matplotlib inline\n",
    "# create pml mask (re-use default size of 20 grid points from simulation_options)\n",
    "pml_size = simulation_options.pml_x_size  # 20 [grid_points]\n",
    "pml_mask = np.zeros((N.x, N.y), dtype=bool)\n",
    "pml_mask[:pml_size, :] = 1\n",
    "pml_mask[:, :pml_size] = 1\n",
    "pml_mask[-pml_size:, :] = 1\n",
    "pml_mask[:, -pml_size:] = 1\n",
    "\n",
    "# Plot source, sensor, and pml masks\n",
    "\n",
    "# Assign unique values to each mask\n",
    "sensor_val = sensor.mask * 1\n",
    "logical_p0_val = logical_p0 * 2\n",
    "pml_mask_val = pml_mask * 3\n",
    "\n",
    "# Combine masks\n",
    "combined_mask = sensor_val + logical_p0_val + pml_mask_val\n",
    "combined_mask = np.flipud(combined_mask)\n",
    "\n",
    "# Define custom colormap\n",
    "colors = [\n",
    "    (1, 1, 1),  # White (Background)\n",
    "    (233/255, 131/255, 0/255),  # Orange (Sensor)\n",
    "    (254/255, 221/255, 92/255),  # Yellow (Sources)\n",
    "    (0.8, 0.8, 0.8),  # Light Grey (PML Mask)\n",
    "]\n",
    "cmap = plt.matplotlib.colors.ListedColormap(colors)\n",
    "\n",
    "fig, ax = plt.subplots()\n",
    "c = ax.pcolormesh(combined_mask, cmap=cmap, shading='auto')\n",
    "for element in karray.elements:\n",
    "    ax.plot(*element.position // kgrid.spacing + kgrid.N // 2, 'kx') \n",
    "plt.axis('image')\n",
    "\n",
    "# Define labels for the colorbar\n",
    "labels = {\n",
    "    0: 'None',\n",
    "    1: 'Sensor',\n",
    "    2: 'Initial pressure p0',\n",
    "    3: 'PML Mask',\n",
    "}\n",
    "\n",
    "bounds = np.linspace(0, len(labels), len(labels)+1)\n",
    "norm = mpl.colors.BoundaryNorm(bounds, cmap.N)\n",
    "\n",
    "ax2 = fig.add_axes([0.95, 0.1, 0.03, 0.8])\n",
    "cb = mpl.colorbar.ColorbarBase(ax2, cmap=cmap, norm=norm,\n",
    "    spacing='proportional', ticks=bounds, boundaries=bounds, format='%1i')\n",
    "\n",
    "# Update the title and label as before\n",
    "ax.set_title('Simulation Layout')\n",
    "ax2.set_ylabel('Simulation Components [-]', size=12)\n",
    "\n",
    "# Calculate the middle points for each segment of the colorbar\n",
    "mid_points = [(bounds[i] + bounds[i+1])/2 for i in range(len(bounds)-1)]\n",
    "\n",
    "# Set the new tick positions and labels\n",
    "ax2.set_yticks(mid_points)\n",
    "ax2.set_yticklabels(list(labels.values()))\n",
    "\n",
    "plt.show()"
   ]
  },
  {
   "cell_type": "code",
   "execution_count": null,
   "metadata": {},
   "outputs": [],
   "source": [
    "fig, [ax1, ax2] = plt.subplots(ncols=1, nrows=2)\n",
    "im1 = ax1.imshow(sensor_data_point, aspect=\"auto\", cmap=get_color_map(), interpolation=\"none\")\n",
    "ax1.set_xlabel(r\"Time [$\\mu$s]\")\n",
    "ax1.set_ylabel(\"Detector Number\")\n",
    "ax1.set_title(\"Cartesian point detectors\")\n",
    "fig.colorbar(im1, ax=ax1)\n",
    "\n",
    "im2 = ax2.imshow(combined_sensor_data, aspect=\"auto\", cmap=get_color_map(), interpolation=\"none\")\n",
    "ax2.set_xlabel(r\"Time [$\\mu$s]\")\n",
    "ax2.set_ylabel(\"Detector Number\")\n",
    "ax2.set_title(\"Arc detectors\")\n",
    "fig.colorbar(im2, ax=ax2)\n",
    "\n",
    "\n",
    "plt.show()"
   ]
  },
  {
   "cell_type": "code",
   "execution_count": null,
   "metadata": {},
   "outputs": [],
   "source": []
  },
  {
   "cell_type": "code",
   "execution_count": null,
   "metadata": {},
   "outputs": [],
   "source": [
    "fig.subplots_adjust(hspace=0.5)\n",
    "\n",
    "# Plot a trace from the recorded sensor data\n",
    "fig = plt.figure()\n",
    "plt.plot(kgrid.t_array.squeeze() * 1e6, sensor_data_point[0, :], label='Cartesian point detectors')\n",
    "plt.plot(kgrid.t_array.squeeze() * 1e6, combined_sensor_data[0, :], label='Arc detectors')\n",
    "plt.xlabel(r'Time [$\\mu$s]')\n",
    "plt.ylabel('Pressure [pa]')\n",
    "plt.legend()\n",
    "plt.show()"
   ]
  },
  {
   "cell_type": "code",
   "execution_count": null,
   "metadata": {},
   "outputs": [],
   "source": [
    "fig.subplots_adjust(hspace=0.5)\n",
    "\n",
    "# Plot a trace from the recorded sensor data\n",
    "fig = plt.figure()\n",
    "plt.plot(kgrid.t_array.squeeze() * 1e6, combined_sensor_data[0, :] - sensor_data_point[0, :])\n",
    "plt.xlabel(r'Time [$\\mu$s]')\n",
    "plt.ylabel('Pressure [pa]')\n",
    "plt.title('Difference between Cartesian and Arc detectors')\n",
    "plt.legend()\n",
    "plt.show()"
   ]
  }
 ],
 "metadata": {
  "accelerator": "GPU",
  "colab": {
   "gpuType": "T4",
   "provenance": []
  },
  "kernelspec": {
   "display_name": "Python 3",
   "name": "python3"
  },
  "language_info": {
   "codemirror_mode": {
    "name": "ipython",
    "version": 3
   },
   "file_extension": ".py",
   "mimetype": "text/x-python",
   "name": "python",
   "nbconvert_exporter": "python",
   "pygments_lexer": "ipython3"
  }
 },
 "nbformat": 4,
 "nbformat_minor": 0
}
