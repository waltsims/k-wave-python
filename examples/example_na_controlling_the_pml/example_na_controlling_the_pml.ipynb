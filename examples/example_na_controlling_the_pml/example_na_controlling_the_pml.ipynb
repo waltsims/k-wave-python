{
 "cells": [
  {
   "cell_type": "markdown",
   "metadata": {},
   "source": [
    "# Using An Ultrasound Transducer As A Sensor Example\n",
    "\n",
    "This example shows how an ultrasound transducer can be used as a detector by substituting a transducer object for the normal sensor input structure. It builds on the Defining An Ultrasound Transducer and Simulating Ultrasound Beam Patterns examples.\n"
   ]
  },
  {
   "cell_type": "code",
   "execution_count": null,
   "metadata": {},
   "outputs": [],
   "source": [
    "import os\n",
    "from copy import deepcopy\n",
    "from tempfile import gettempdir\n",
    "\n",
    "# noinspection PyUnresolvedReferences\n",
    "import setup_test  # noqa: F401\n",
    "from kwave.data import Vector\n",
    "from kwave.kgrid import kWaveGrid\n",
    "from kwave.kmedium import kWaveMedium\n",
    "from kwave.ksensor import kSensor\n",
    "from kwave.ksource import kSource\n",
    "from kwave.kspaceFirstOrder2D import kspaceFirstOrder2DC\n",
    "from kwave.options.simulation_execution_options import SimulationExecutionOptions\n",
    "from kwave.options.simulation_options import SimulationOptions\n",
    "from kwave.utils.mapgen import make_disc, make_cart_circle\n",
    "from tests.diff_utils import compare_against_ref"
   ]
  },
  {
   "cell_type": "code",
   "execution_count": null,
   "metadata": {},
   "outputs": [],
   "source": [
    "# create the computational grid and propagation medium\n",
    "grid_size = Vector([128, 128])  # [grid points]\n",
    "grid_spacing = Vector([0.1e-3, 0.1e-3])  # [m]\n",
    "kgrid = kWaveGrid(grid_size, grid_spacing)\n",
    "\n",
    "medium = kWaveMedium(sound_speed=1500)"
   ]
  },
  {
   "cell_type": "code",
   "execution_count": null,
   "metadata": {},
   "outputs": [],
   "source": [
    "# create initial pressure distribution using make_disc\n",
    "disc_magnitude = 5 # [Pa]\n",
    "disc_pos = Vector([50, 50])  # [grid points]\n",
    "disc_radius = 8    # [grid points]\n",
    "disc_1 = disc_magnitude * make_disc(grid_size, disc_pos, disc_radius)\n",
    "\n",
    "disc_magnitude = 3 # [Pa]\n",
    "disc_pos = Vector([80, 60])  # [grid points]\n",
    "disc_radius = 5    # [grid points]\n",
    "disc_2 = disc_magnitude * make_disc(grid_size, disc_pos, disc_radius)\n",
    "\n",
    "source = kSource()\n",
    "source.p0 = disc_1 + disc_2"
   ]
  },
  {
   "cell_type": "code",
   "execution_count": null,
   "metadata": {},
   "outputs": [],
   "source": [
    "# define a centered circular sensor\n",
    "sensor_radius = 4e-3   # [m]\n",
    "num_sensor_points = 50\n",
    "sensor_mask = make_cart_circle(sensor_radius, num_sensor_points)\n",
    "sensor = kSensor(sensor_mask)"
   ]
  },
  {
   "cell_type": "code",
   "execution_count": null,
   "metadata": {},
   "outputs": [],
   "source": [
    "input_filename = 'input_1.h5'\n",
    "pathname = gettempdir()\n",
    "input_file_full_path = os.path.join(pathname, input_filename)\n",
    "simulation_options = SimulationOptions(\n",
    "    pml_alpha=0,\n",
    "    save_to_disk=True,\n",
    "    input_filename=input_filename,\n",
    "    data_path=pathname,\n",
    "    save_to_disk_exit=True\n",
    ")\n",
    "kspaceFirstOrder2DC(\n",
    "    medium=medium,\n",
    "    kgrid=kgrid,\n",
    "    source=deepcopy(source),\n",
    "    sensor=sensor,\n",
    "    simulation_options=simulation_options,\n",
    "    execution_options=SimulationExecutionOptions()\n",
    ")\n",
    "assert compare_against_ref('out_na_controlling_the_PML/input_1', input_file_full_path), \\\n",
    "    'Files do not match!'"
   ]
  }
 ],
 "metadata": {
  "kernelspec": {
   "display_name": "Python 3 (ipykernel)",
   "language": "python",
   "name": "python3"
  },
  "language_info": {
   "codemirror_mode": {
    "name": "ipython",
    "version": 3
   },
   "file_extension": ".py",
   "mimetype": "text/x-python",
   "name": "python",
   "nbconvert_exporter": "python",
   "pygments_lexer": "ipython3",
   "version": "3.7.16"
  }
 },
 "nbformat": 4,
 "nbformat_minor": 1
}
