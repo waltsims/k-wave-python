{
 "cells": [
  {
   "cell_type": "code",
   "id": "initial_id",
   "metadata": {
    "collapsed": true
   },
   "source": [
    "%%capture\n",
    "!pip install k-wave-python "
   ],
   "outputs": [],
   "execution_count": null
  },
  {
   "metadata": {},
   "cell_type": "code",
   "source": [
    "from kwave.data import Vector\n",
    "from kwave.kgrid import kWaveGrid\n",
    "from kwave.kmedium import kWaveMedium\n",
    "from kwave.ksensor import kSensor\n",
    "from kwave.ksource import kSource\n",
    "from kwave.kspaceFirstOrder3D import kspaceFirstOrder3D\n",
    "from kwave.kspacePlaneRecon import kspacePlaneRecon\n",
    "from kwave.options.simulation_execution_options import SimulationExecutionOptions\n",
    "from kwave.options.simulation_options import SimulationOptions\n",
    "from kwave.utils.colormap import get_color_map\n",
    "from kwave.utils.mapgen import make_ball\n",
    "from kwave.utils.filters import smooth\n",
    "\n",
    "import matplotlib.pyplot as plt\n",
    "import numpy as np\n",
    "from scipy.interpolate import RegularGridInterpolator"
   ],
   "id": "611488037b162a21",
   "outputs": [],
   "execution_count": null
  },
  {
   "metadata": {},
   "cell_type": "markdown",
   "source": [
    "## 3D FFT Reconstruction For A Planar Sensor Example\n",
    "\n",
    "This example demonstrates the use of k-Wave for the reconstruction of a\n",
    "three-dimensional photoacoustic wave-field recorded over a planar array\n",
    "of sensor elements. The sensor data is simulated using kspaceFirstOrder3D\n",
    "and reconstructed using kspacePlaneRecon. It builds on the Simulations In\n",
    "Three Dimensions and 2D FFT Reconstruction For A Line Sensor examples."
   ],
   "id": "d7d832f9f7f7caf3"
  },
  {
   "metadata": {},
   "cell_type": "markdown",
   "source": "### SIMULATION",
   "id": "6e5153f4bb9a8e8b"
  },
  {
   "metadata": {},
   "cell_type": "code",
   "source": "scale = 1",
   "id": "5ef3d745e587ea7d",
   "outputs": [],
   "execution_count": null
  },
  {
   "metadata": {},
   "cell_type": "code",
   "source": [
    "# create the computational grid\n",
    "PML_size = 10  # size of the PML in grid points\n",
    "N = Vector([32, 64, 64]) * scale - 2 * PML_size  # number of grid points\n",
    "d = Vector([0.2e-3, 0.2e-3, 0.2e-3]) / scale  # grid point spacing [m]\n",
    "kgrid = kWaveGrid(N, d)"
   ],
   "id": "62a1b78d509423b1",
   "outputs": [],
   "execution_count": null
  },
  {
   "metadata": {},
   "cell_type": "code",
   "source": [
    "# define the properties of the propagation medium\n",
    "medium = kWaveMedium(sound_speed=1500)  # [m/s]"
   ],
   "id": "9606aea53baa8a1",
   "outputs": [],
   "execution_count": null
  },
  {
   "metadata": {},
   "cell_type": "code",
   "source": [
    "# create initial pressure distribution using makeBall\n",
    "ball_magnitude = 10  # [Pa]\n",
    "ball_radius = 3 * scale  # [grid points]\n",
    "p0 = ball_magnitude * make_ball(N, N / 2, ball_radius)\n",
    "p0 = smooth(p0, restore_max=True)\n",
    "\n",
    "source = kSource()\n",
    "source.p0 = p0"
   ],
   "id": "a5ab847f521ec9b9",
   "outputs": [],
   "execution_count": null
  },
  {
   "metadata": {},
   "cell_type": "code",
   "source": [
    "# define a binary planar sensor\n",
    "sensor = kSensor()\n",
    "sensor_mask = np.zeros(N)\n",
    "sensor_mask[0] = 1\n",
    "sensor.mask = sensor_mask"
   ],
   "id": "80a91cfee6c4b79f",
   "outputs": [],
   "execution_count": null
  },
  {
   "metadata": {},
   "cell_type": "code",
   "source": [
    "%%capture\n",
    "\n",
    "# create the time array\n",
    "kgrid.makeTime(medium.sound_speed)"
   ],
   "id": "39e4252f2d55caae",
   "outputs": [],
   "execution_count": null
  },
  {
   "metadata": {},
   "cell_type": "code",
   "source": [
    "# set the input arguments\n",
    "simulation_options = SimulationOptions(\n",
    "    save_to_disk=True,\n",
    "    pml_size=PML_size,\n",
    "    pml_inside=False,\n",
    "    smooth_p0=False,\n",
    "    data_cast='single'\n",
    ")\n",
    "\n",
    "execution_options = SimulationExecutionOptions(is_gpu_simulation=True)"
   ],
   "id": "d036c62f78598f2d",
   "outputs": [],
   "execution_count": null
  },
  {
   "metadata": {},
   "cell_type": "code",
   "source": [
    "# run the simulation\n",
    "sensor_data = kspaceFirstOrder3D(kgrid, source, sensor, medium, simulation_options, execution_options)\n",
    "sensor_data = sensor_data['p'].T\n",
    "\n",
    "# reshape sensor data to y, z, t\n",
    "sensor_data_rs = sensor_data.reshape(N[1], N[2], kgrid.Nt)\n",
    "\n",
    "# reconstruct the initial pressure\n",
    "p_xyz = kspacePlaneRecon(sensor_data_rs, kgrid.dy, kgrid.dz, kgrid.dt.item(),\n",
    "                         medium.sound_speed.item(), data_order='yzt', pos_cond=True)"
   ],
   "id": "e74cd39b11526d81",
   "outputs": [],
   "execution_count": null
  },
  {
   "metadata": {},
   "cell_type": "code",
   "source": [
    "# define a k-space grid using the dimensions of p_xyz\n",
    "N_recon = Vector(p_xyz.shape)\n",
    "d_recon = Vector([kgrid.dt.item() * medium.sound_speed.item(), kgrid.dy, kgrid.dz])\n",
    "kgrid_recon = kWaveGrid(N_recon, d_recon)\n",
    "\n",
    "# define a k-space grid with the same z-spacing as p0\n",
    "kgrid_interp = kWaveGrid(N, d)\n",
    "\n",
    "# resample the p_xyz to be the same size as p0\n",
    "interp_func = RegularGridInterpolator(\n",
    "    (kgrid_recon.x_vec[:, 0] - kgrid_recon.x_vec[:, 0].min(),\n",
    "     kgrid_recon.y_vec[:, 0] - kgrid_recon.y_vec[:, 0].min(),\n",
    "     kgrid_recon.z_vec[:, 0] - kgrid_recon.z_vec[:, 0].min()),\n",
    "    p_xyz, method='linear'\n",
    ")\n",
    "query_points = np.stack((kgrid_interp.x - kgrid_interp.x.min(),\n",
    "                         kgrid_interp.y - kgrid_interp.y.min(),\n",
    "                         kgrid_interp.z - kgrid_interp.z.min()),\n",
    "                        axis=-1)\n",
    "p_xyz_rs = interp_func(query_points)"
   ],
   "id": "c0d05511c962ede8",
   "outputs": [],
   "execution_count": null
  },
  {
   "metadata": {},
   "cell_type": "markdown",
   "source": "### VISUALIZATION",
   "id": "c63150dfb5bc2f2f"
  },
  {
   "metadata": {},
   "cell_type": "code",
   "source": [
    "# plot the initial pressure and sensor surface in voxel form\n",
    "# from kwave.utils.plot import voxel_plot\n",
    "# voxel_plot(np.single((p0 + sensor_mask) > 0))  # todo: needs unsmoothed po + plot not working"
   ],
   "id": "d612fbaa36e986a9",
   "outputs": [],
   "execution_count": null
  },
  {
   "metadata": {},
   "cell_type": "code",
   "source": [
    "# plot the initial pressure\n",
    "plot_scale = [-10, 10]\n",
    "fig, axs = plt.subplots(2, 2)\n",
    "axs[0, 0].imshow(p0[:, :, N[2] // 2],\n",
    "                 extent=[kgrid_interp.y_vec.min() * 1e3, kgrid_interp.y_vec.max() * 1e3,\n",
    "                         kgrid_interp.x_vec.max() * 1e3, kgrid_interp.x_vec.min() * 1e3],\n",
    "                 vmin=plot_scale[0], vmax=plot_scale[1], cmap=get_color_map())\n",
    "axs[0, 0].set_title('x-y plane')\n",
    "\n",
    "axs[0, 1].imshow(p0[:, N[1] // 2, :],\n",
    "                 extent=[kgrid_interp.z_vec.min() * 1e3, kgrid_interp.z_vec.max() * 1e3,\n",
    "                         kgrid_interp.x_vec.max() * 1e3, kgrid_interp.x_vec.min() * 1e3],\n",
    "                 vmin=plot_scale[0], vmax=plot_scale[1], cmap=get_color_map())\n",
    "axs[0, 1].set_title('x-z plane')\n",
    "\n",
    "axs[1, 0].imshow(p0[N[0] // 2, :, :],\n",
    "                 extent=[kgrid_interp.z_vec.min() * 1e3, kgrid_interp.z_vec.max() * 1e3,\n",
    "                         kgrid_interp.y_vec.max() * 1e3, kgrid_interp.y_vec.min() * 1e3],\n",
    "                 vmin=plot_scale[0], vmax=plot_scale[1], cmap=get_color_map())\n",
    "axs[1, 0].set_title('y-z plane')\n",
    "\n",
    "axs[1, 1].axis('off')\n",
    "axs[1, 1].set_title('(All axes in mm)')\n",
    "plt.show()"
   ],
   "id": "2db2c76fa8f0b234",
   "outputs": [],
   "execution_count": null
  },
  {
   "metadata": {},
   "cell_type": "code",
   "source": [
    "# plot the reconstructed initial pressure\n",
    "fig, axs = plt.subplots(2, 2)\n",
    "axs[0, 0].imshow(p_xyz_rs[:, :, N[2] // 2],\n",
    "                 extent=[kgrid_interp.y_vec.min() * 1e3, kgrid_interp.y_vec.max() * 1e3,\n",
    "                         kgrid_interp.x_vec.max() * 1e3, kgrid_interp.x_vec.min() * 1e3],\n",
    "                 vmin=plot_scale[0], vmax=plot_scale[1], cmap=get_color_map())\n",
    "axs[0, 0].set_title('x-y plane')\n",
    "\n",
    "axs[0, 1].imshow(p_xyz_rs[:, N[1] // 2, :],\n",
    "                 extent=[kgrid_interp.z_vec.min() * 1e3, kgrid_interp.z_vec.max() * 1e3,\n",
    "                         kgrid_interp.x_vec.max() * 1e3, kgrid_interp.x_vec.min() * 1e3],\n",
    "                 vmin=plot_scale[0], vmax=plot_scale[1], cmap=get_color_map())\n",
    "axs[0, 1].set_title('x-z plane')\n",
    "\n",
    "axs[1, 0].imshow(p_xyz_rs[N[0] // 2, :, :],\n",
    "                 extent=[kgrid_interp.z_vec.min() * 1e3, kgrid_interp.z_vec.max() * 1e3,\n",
    "                         kgrid_interp.y_vec.max() * 1e3, kgrid_interp.y_vec.min() * 1e3],\n",
    "                 vmin=plot_scale[0], vmax=plot_scale[1], cmap=get_color_map())\n",
    "axs[1, 0].set_title('y-z plane')\n",
    "\n",
    "axs[1, 1].axis('off')\n",
    "axs[1, 1].set_title('(All axes in mm)')\n",
    "plt.show()"
   ],
   "id": "d5f54008217d6532",
   "outputs": [],
   "execution_count": null
  }
 ],
 "metadata": {
  "kernelspec": {
   "display_name": "Python 3",
   "language": "python",
   "name": "python3"
  },
  "language_info": {
   "codemirror_mode": {
    "name": "ipython",
    "version": 2
   },
   "file_extension": ".py",
   "mimetype": "text/x-python",
   "name": "python",
   "nbconvert_exporter": "python",
   "pygments_lexer": "ipython2",
   "version": "2.7.6"
  }
 },
 "nbformat": 4,
 "nbformat_minor": 5
}
